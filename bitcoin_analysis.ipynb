{
 "cells": [
  {
   "cell_type": "markdown",
   "id": "f851f28c-cb31-4975-8659-97cc6fb355f8",
   "metadata": {},
   "source": [
    "# Bitcoin Analysis"
   ]
  },
  {
   "cell_type": "code",
   "execution_count": 2,
   "id": "59453b0a-5e43-4e30-9833-ce7dcfe679c9",
   "metadata": {},
   "outputs": [],
   "source": [
    "#import the required libraries and dependencies\n",
    "\n",
    "import numpy as np\n",
    "import pandas as pd\n",
    "from pathlib import Path\n",
    "import seaborn as sns\n",
    "%matplotlib inline"
   ]
  },
  {
   "cell_type": "markdown",
   "id": "1ecf3d1b-5b1f-4bb7-a12f-9cb4465b7577",
   "metadata": {},
   "source": [
    "## Import data sets and prepare them for analysis"
   ]
  },
  {
   "cell_type": "code",
   "execution_count": 6,
   "id": "c14351cc-cd47-4fd5-b2ef-7d830c0c5f51",
   "metadata": {},
   "outputs": [
    {
     "data": {
      "text/html": [
       "<div>\n",
       "<style scoped>\n",
       "    .dataframe tbody tr th:only-of-type {\n",
       "        vertical-align: middle;\n",
       "    }\n",
       "\n",
       "    .dataframe tbody tr th {\n",
       "        vertical-align: top;\n",
       "    }\n",
       "\n",
       "    .dataframe thead th {\n",
       "        text-align: right;\n",
       "    }\n",
       "</style>\n",
       "<table border=\"1\" class=\"dataframe\">\n",
       "  <thead>\n",
       "    <tr style=\"text-align: right;\">\n",
       "      <th></th>\n",
       "      <th>Price</th>\n",
       "      <th>Open</th>\n",
       "      <th>High</th>\n",
       "      <th>Low</th>\n",
       "      <th>Vol.</th>\n",
       "      <th>Change %</th>\n",
       "    </tr>\n",
       "    <tr>\n",
       "      <th>Date</th>\n",
       "      <th></th>\n",
       "      <th></th>\n",
       "      <th></th>\n",
       "      <th></th>\n",
       "      <th></th>\n",
       "      <th></th>\n",
       "    </tr>\n",
       "  </thead>\n",
       "  <tbody>\n",
       "    <tr>\n",
       "      <th>2022-07-06</th>\n",
       "      <td>3,845.08</td>\n",
       "      <td>3,831.98</td>\n",
       "      <td>3,870.91</td>\n",
       "      <td>3,809.37</td>\n",
       "      <td>-</td>\n",
       "      <td>0.36%</td>\n",
       "    </tr>\n",
       "    <tr>\n",
       "      <th>2022-07-05</th>\n",
       "      <td>3,831.39</td>\n",
       "      <td>3,792.61</td>\n",
       "      <td>3,832.19</td>\n",
       "      <td>3,742.06</td>\n",
       "      <td>-</td>\n",
       "      <td>0.16%</td>\n",
       "    </tr>\n",
       "    <tr>\n",
       "      <th>2022-07-01</th>\n",
       "      <td>3,825.33</td>\n",
       "      <td>3,781.00</td>\n",
       "      <td>3,829.82</td>\n",
       "      <td>3,752.10</td>\n",
       "      <td>-</td>\n",
       "      <td>1.06%</td>\n",
       "    </tr>\n",
       "    <tr>\n",
       "      <th>2022-06-30</th>\n",
       "      <td>3,785.38</td>\n",
       "      <td>3,785.99</td>\n",
       "      <td>3,818.99</td>\n",
       "      <td>3,738.67</td>\n",
       "      <td>-</td>\n",
       "      <td>-0.88%</td>\n",
       "    </tr>\n",
       "    <tr>\n",
       "      <th>2022-06-29</th>\n",
       "      <td>3,818.83</td>\n",
       "      <td>3,825.09</td>\n",
       "      <td>3,836.50</td>\n",
       "      <td>3,799.02</td>\n",
       "      <td>-</td>\n",
       "      <td>-0.07%</td>\n",
       "    </tr>\n",
       "  </tbody>\n",
       "</table>\n",
       "</div>"
      ],
      "text/plain": [
       "               Price      Open      High       Low Vol. Change %\n",
       "Date                                                            \n",
       "2022-07-06  3,845.08  3,831.98  3,870.91  3,809.37    -    0.36%\n",
       "2022-07-05  3,831.39  3,792.61  3,832.19  3,742.06    -    0.16%\n",
       "2022-07-01  3,825.33  3,781.00  3,829.82  3,752.10    -    1.06%\n",
       "2022-06-30  3,785.38  3,785.99  3,818.99  3,738.67    -   -0.88%\n",
       "2022-06-29  3,818.83  3,825.09  3,836.50  3,799.02    -   -0.07%"
      ]
     },
     "metadata": {},
     "output_type": "display_data"
    }
   ],
   "source": [
    "#import S&P500 data as a panda dataframe and make the index the date and convert to date time format\n",
    "sp500_df = pd.read_csv(Path(\"S&P 500 Historical Data.csv\"), index_col='Date', parse_dates=True, infer_datetime_format=True)\n",
    "\n",
    "display(sp500_df.head())"
   ]
  },
  {
   "cell_type": "code",
   "execution_count": 7,
   "id": "b6e4b328-7d3f-48f0-a451-4e4f9ae79c44",
   "metadata": {},
   "outputs": [
    {
     "data": {
      "text/html": [
       "<div>\n",
       "<style scoped>\n",
       "    .dataframe tbody tr th:only-of-type {\n",
       "        vertical-align: middle;\n",
       "    }\n",
       "\n",
       "    .dataframe tbody tr th {\n",
       "        vertical-align: top;\n",
       "    }\n",
       "\n",
       "    .dataframe thead th {\n",
       "        text-align: right;\n",
       "    }\n",
       "</style>\n",
       "<table border=\"1\" class=\"dataframe\">\n",
       "  <thead>\n",
       "    <tr style=\"text-align: right;\">\n",
       "      <th></th>\n",
       "      <th>Price</th>\n",
       "      <th>Open</th>\n",
       "      <th>High</th>\n",
       "      <th>Low</th>\n",
       "      <th>Vol.</th>\n",
       "      <th>Change %</th>\n",
       "    </tr>\n",
       "    <tr>\n",
       "      <th>Date</th>\n",
       "      <th></th>\n",
       "      <th></th>\n",
       "      <th></th>\n",
       "      <th></th>\n",
       "      <th></th>\n",
       "      <th></th>\n",
       "    </tr>\n",
       "  </thead>\n",
       "  <tbody>\n",
       "    <tr>\n",
       "      <th>2022-07-07</th>\n",
       "      <td>20306.8</td>\n",
       "      <td>20557.9</td>\n",
       "      <td>20584.2</td>\n",
       "      <td>20282.7</td>\n",
       "      <td>91.82K</td>\n",
       "      <td>-1.24%</td>\n",
       "    </tr>\n",
       "    <tr>\n",
       "      <th>2022-07-06</th>\n",
       "      <td>20561.1</td>\n",
       "      <td>20180.4</td>\n",
       "      <td>20654.9</td>\n",
       "      <td>19785.3</td>\n",
       "      <td>105.24K</td>\n",
       "      <td>1.78%</td>\n",
       "    </tr>\n",
       "    <tr>\n",
       "      <th>2022-07-05</th>\n",
       "      <td>20200.6</td>\n",
       "      <td>20215.8</td>\n",
       "      <td>20706.9</td>\n",
       "      <td>19315.4</td>\n",
       "      <td>122.43K</td>\n",
       "      <td>-0.08%</td>\n",
       "    </tr>\n",
       "    <tr>\n",
       "      <th>2022-07-04</th>\n",
       "      <td>20215.8</td>\n",
       "      <td>19310.6</td>\n",
       "      <td>20303.8</td>\n",
       "      <td>19052.5</td>\n",
       "      <td>92.79K</td>\n",
       "      <td>4.69%</td>\n",
       "    </tr>\n",
       "    <tr>\n",
       "      <th>2022-07-03</th>\n",
       "      <td>19309.9</td>\n",
       "      <td>19243.4</td>\n",
       "      <td>19626.4</td>\n",
       "      <td>18794.4</td>\n",
       "      <td>65.27K</td>\n",
       "      <td>0.35%</td>\n",
       "    </tr>\n",
       "  </tbody>\n",
       "</table>\n",
       "</div>"
      ],
      "text/plain": [
       "              Price     Open     High      Low     Vol. Change %\n",
       "Date                                                            \n",
       "2022-07-07  20306.8  20557.9  20584.2  20282.7   91.82K   -1.24%\n",
       "2022-07-06  20561.1  20180.4  20654.9  19785.3  105.24K    1.78%\n",
       "2022-07-05  20200.6  20215.8  20706.9  19315.4  122.43K   -0.08%\n",
       "2022-07-04  20215.8  19310.6  20303.8  19052.5   92.79K    4.69%\n",
       "2022-07-03  19309.9  19243.4  19626.4  18794.4   65.27K    0.35%"
      ]
     },
     "metadata": {},
     "output_type": "display_data"
    },
    {
     "data": {
      "text/plain": [
       "Price       object\n",
       "Open        object\n",
       "High        object\n",
       "Low         object\n",
       "Vol.        object\n",
       "Change %    object\n",
       "dtype: object"
      ]
     },
     "metadata": {},
     "output_type": "display_data"
    }
   ],
   "source": [
    "#use pandas read csv function to import csv file\n",
    "#replace all the commons with nothing\n",
    "bitcoin_df = pd.read_csv(Path(\"Bitcoin Historical Data - Investing.com India.csv\"), index_col='Date', parse_dates=True, infer_datetime_format=True)\n",
    "\n",
    "\n",
    "bitcoin_df.replace(',','', regex=True, inplace=True)\n",
    "\n",
    "display(bitcoin_df.head())\n",
    "display(bitcoin_df.dtypes)"
   ]
  },
  {
   "cell_type": "code",
   "execution_count": 8,
   "id": "75107fd5-6ccd-4263-8825-2ced968a3d95",
   "metadata": {},
   "outputs": [
    {
     "data": {
      "text/plain": [
       "Price       object\n",
       "Open        object\n",
       "High        object\n",
       "Low         object\n",
       "Vol.        object\n",
       "Change %    object\n",
       "dtype: object"
      ]
     },
     "metadata": {},
     "output_type": "display_data"
    }
   ],
   "source": [
    "#convert all values to str so that we can further clean\n",
    "bitcoin_df.astype('str')\n",
    "display(bitcoin_df.dtypes)\n"
   ]
  },
  {
   "cell_type": "code",
   "execution_count": 9,
   "id": "ff993fe0-47ce-41e1-903d-e792d3a6106a",
   "metadata": {},
   "outputs": [
    {
     "data": {
      "text/html": [
       "<div>\n",
       "<style scoped>\n",
       "    .dataframe tbody tr th:only-of-type {\n",
       "        vertical-align: middle;\n",
       "    }\n",
       "\n",
       "    .dataframe tbody tr th {\n",
       "        vertical-align: top;\n",
       "    }\n",
       "\n",
       "    .dataframe thead th {\n",
       "        text-align: right;\n",
       "    }\n",
       "</style>\n",
       "<table border=\"1\" class=\"dataframe\">\n",
       "  <thead>\n",
       "    <tr style=\"text-align: right;\">\n",
       "      <th></th>\n",
       "      <th>Price</th>\n",
       "      <th>Open</th>\n",
       "      <th>High</th>\n",
       "      <th>Low</th>\n",
       "      <th>Vol.</th>\n",
       "      <th>Change %</th>\n",
       "    </tr>\n",
       "    <tr>\n",
       "      <th>Date</th>\n",
       "      <th></th>\n",
       "      <th></th>\n",
       "      <th></th>\n",
       "      <th></th>\n",
       "      <th></th>\n",
       "      <th></th>\n",
       "    </tr>\n",
       "  </thead>\n",
       "  <tbody>\n",
       "    <tr>\n",
       "      <th>2022-07-07</th>\n",
       "      <td>20306.8</td>\n",
       "      <td>20557.9</td>\n",
       "      <td>20584.2</td>\n",
       "      <td>20282.7</td>\n",
       "      <td>91.82</td>\n",
       "      <td>-1.24%</td>\n",
       "    </tr>\n",
       "    <tr>\n",
       "      <th>2022-07-06</th>\n",
       "      <td>20561.1</td>\n",
       "      <td>20180.4</td>\n",
       "      <td>20654.9</td>\n",
       "      <td>19785.3</td>\n",
       "      <td>105.24</td>\n",
       "      <td>1.78%</td>\n",
       "    </tr>\n",
       "    <tr>\n",
       "      <th>2022-07-05</th>\n",
       "      <td>20200.6</td>\n",
       "      <td>20215.8</td>\n",
       "      <td>20706.9</td>\n",
       "      <td>19315.4</td>\n",
       "      <td>122.43</td>\n",
       "      <td>-0.08%</td>\n",
       "    </tr>\n",
       "    <tr>\n",
       "      <th>2022-07-04</th>\n",
       "      <td>20215.8</td>\n",
       "      <td>19310.6</td>\n",
       "      <td>20303.8</td>\n",
       "      <td>19052.5</td>\n",
       "      <td>92.79</td>\n",
       "      <td>4.69%</td>\n",
       "    </tr>\n",
       "    <tr>\n",
       "      <th>2022-07-03</th>\n",
       "      <td>19309.9</td>\n",
       "      <td>19243.4</td>\n",
       "      <td>19626.4</td>\n",
       "      <td>18794.4</td>\n",
       "      <td>65.27</td>\n",
       "      <td>0.35%</td>\n",
       "    </tr>\n",
       "  </tbody>\n",
       "</table>\n",
       "</div>"
      ],
      "text/plain": [
       "              Price     Open     High      Low    Vol. Change %\n",
       "Date                                                           \n",
       "2022-07-07  20306.8  20557.9  20584.2  20282.7   91.82   -1.24%\n",
       "2022-07-06  20561.1  20180.4  20654.9  19785.3  105.24    1.78%\n",
       "2022-07-05  20200.6  20215.8  20706.9  19315.4  122.43   -0.08%\n",
       "2022-07-04  20215.8  19310.6  20303.8  19052.5   92.79    4.69%\n",
       "2022-07-03  19309.9  19243.4  19626.4  18794.4   65.27    0.35%"
      ]
     },
     "execution_count": 9,
     "metadata": {},
     "output_type": "execute_result"
    }
   ],
   "source": [
    "#cleaning the vol collum\n",
    "bitcoin_df['Vol.'] = bitcoin_df['Vol.'].str.replace('K','')\n",
    "bitcoin_df.head()"
   ]
  },
  {
   "cell_type": "code",
   "execution_count": 10,
   "id": "4e599654-054e-4913-987a-659de0da7278",
   "metadata": {},
   "outputs": [
    {
     "data": {
      "text/html": [
       "<div>\n",
       "<style scoped>\n",
       "    .dataframe tbody tr th:only-of-type {\n",
       "        vertical-align: middle;\n",
       "    }\n",
       "\n",
       "    .dataframe tbody tr th {\n",
       "        vertical-align: top;\n",
       "    }\n",
       "\n",
       "    .dataframe thead th {\n",
       "        text-align: right;\n",
       "    }\n",
       "</style>\n",
       "<table border=\"1\" class=\"dataframe\">\n",
       "  <thead>\n",
       "    <tr style=\"text-align: right;\">\n",
       "      <th></th>\n",
       "      <th>Price</th>\n",
       "      <th>Open</th>\n",
       "      <th>High</th>\n",
       "      <th>Low</th>\n",
       "      <th>Vol.</th>\n",
       "      <th>Change %</th>\n",
       "    </tr>\n",
       "    <tr>\n",
       "      <th>Date</th>\n",
       "      <th></th>\n",
       "      <th></th>\n",
       "      <th></th>\n",
       "      <th></th>\n",
       "      <th></th>\n",
       "      <th></th>\n",
       "    </tr>\n",
       "  </thead>\n",
       "  <tbody>\n",
       "    <tr>\n",
       "      <th>2022-07-07</th>\n",
       "      <td>20306.8</td>\n",
       "      <td>20557.9</td>\n",
       "      <td>20584.2</td>\n",
       "      <td>20282.7</td>\n",
       "      <td>91.82</td>\n",
       "      <td>-1.24%</td>\n",
       "    </tr>\n",
       "    <tr>\n",
       "      <th>2022-07-06</th>\n",
       "      <td>20561.1</td>\n",
       "      <td>20180.4</td>\n",
       "      <td>20654.9</td>\n",
       "      <td>19785.3</td>\n",
       "      <td>105.24</td>\n",
       "      <td>1.78%</td>\n",
       "    </tr>\n",
       "    <tr>\n",
       "      <th>2022-07-05</th>\n",
       "      <td>20200.6</td>\n",
       "      <td>20215.8</td>\n",
       "      <td>20706.9</td>\n",
       "      <td>19315.4</td>\n",
       "      <td>122.43</td>\n",
       "      <td>-0.08%</td>\n",
       "    </tr>\n",
       "    <tr>\n",
       "      <th>2022-07-04</th>\n",
       "      <td>20215.8</td>\n",
       "      <td>19310.6</td>\n",
       "      <td>20303.8</td>\n",
       "      <td>19052.5</td>\n",
       "      <td>92.79</td>\n",
       "      <td>4.69%</td>\n",
       "    </tr>\n",
       "    <tr>\n",
       "      <th>2022-07-03</th>\n",
       "      <td>19309.9</td>\n",
       "      <td>19243.4</td>\n",
       "      <td>19626.4</td>\n",
       "      <td>18794.4</td>\n",
       "      <td>65.27</td>\n",
       "      <td>0.35%</td>\n",
       "    </tr>\n",
       "  </tbody>\n",
       "</table>\n",
       "</div>"
      ],
      "text/plain": [
       "              Price     Open     High      Low    Vol. Change %\n",
       "Date                                                           \n",
       "2022-07-07  20306.8  20557.9  20584.2  20282.7   91.82   -1.24%\n",
       "2022-07-06  20561.1  20180.4  20654.9  19785.3  105.24    1.78%\n",
       "2022-07-05  20200.6  20215.8  20706.9  19315.4  122.43   -0.08%\n",
       "2022-07-04  20215.8  19310.6  20303.8  19052.5   92.79    4.69%\n",
       "2022-07-03  19309.9  19243.4  19626.4  18794.4   65.27    0.35%"
      ]
     },
     "execution_count": 10,
     "metadata": {},
     "output_type": "execute_result"
    }
   ],
   "source": [
    "#cleaning the vol column more\n",
    "bitcoin_df['Vol.'] = bitcoin_df['Vol.'].str.replace('M','')\n",
    "bitcoin_df.head()\n",
    "bitcoin_df['Vol.'] = bitcoin_df['Vol.'].str.replace('B','')\n",
    "bitcoin_df.head()"
   ]
  },
  {
   "cell_type": "code",
   "execution_count": 11,
   "id": "e4e9d8e3-5d9e-44d9-b59f-de93592160ab",
   "metadata": {},
   "outputs": [
    {
     "data": {
      "text/html": [
       "<div>\n",
       "<style scoped>\n",
       "    .dataframe tbody tr th:only-of-type {\n",
       "        vertical-align: middle;\n",
       "    }\n",
       "\n",
       "    .dataframe tbody tr th {\n",
       "        vertical-align: top;\n",
       "    }\n",
       "\n",
       "    .dataframe thead th {\n",
       "        text-align: right;\n",
       "    }\n",
       "</style>\n",
       "<table border=\"1\" class=\"dataframe\">\n",
       "  <thead>\n",
       "    <tr style=\"text-align: right;\">\n",
       "      <th></th>\n",
       "      <th>Price</th>\n",
       "      <th>Open</th>\n",
       "      <th>High</th>\n",
       "      <th>Low</th>\n",
       "      <th>Vol.</th>\n",
       "    </tr>\n",
       "    <tr>\n",
       "      <th>Date</th>\n",
       "      <th></th>\n",
       "      <th></th>\n",
       "      <th></th>\n",
       "      <th></th>\n",
       "      <th></th>\n",
       "    </tr>\n",
       "  </thead>\n",
       "  <tbody>\n",
       "    <tr>\n",
       "      <th>2022-07-07</th>\n",
       "      <td>20306.8</td>\n",
       "      <td>20557.9</td>\n",
       "      <td>20584.2</td>\n",
       "      <td>20282.7</td>\n",
       "      <td>91.82</td>\n",
       "    </tr>\n",
       "    <tr>\n",
       "      <th>2022-07-06</th>\n",
       "      <td>20561.1</td>\n",
       "      <td>20180.4</td>\n",
       "      <td>20654.9</td>\n",
       "      <td>19785.3</td>\n",
       "      <td>105.24</td>\n",
       "    </tr>\n",
       "    <tr>\n",
       "      <th>2022-07-05</th>\n",
       "      <td>20200.6</td>\n",
       "      <td>20215.8</td>\n",
       "      <td>20706.9</td>\n",
       "      <td>19315.4</td>\n",
       "      <td>122.43</td>\n",
       "    </tr>\n",
       "    <tr>\n",
       "      <th>2022-07-04</th>\n",
       "      <td>20215.8</td>\n",
       "      <td>19310.6</td>\n",
       "      <td>20303.8</td>\n",
       "      <td>19052.5</td>\n",
       "      <td>92.79</td>\n",
       "    </tr>\n",
       "    <tr>\n",
       "      <th>2022-07-03</th>\n",
       "      <td>19309.9</td>\n",
       "      <td>19243.4</td>\n",
       "      <td>19626.4</td>\n",
       "      <td>18794.4</td>\n",
       "      <td>65.27</td>\n",
       "    </tr>\n",
       "  </tbody>\n",
       "</table>\n",
       "</div>"
      ],
      "text/plain": [
       "              Price     Open     High      Low    Vol.\n",
       "Date                                                  \n",
       "2022-07-07  20306.8  20557.9  20584.2  20282.7   91.82\n",
       "2022-07-06  20561.1  20180.4  20654.9  19785.3  105.24\n",
       "2022-07-05  20200.6  20215.8  20706.9  19315.4  122.43\n",
       "2022-07-04  20215.8  19310.6  20303.8  19052.5   92.79\n",
       "2022-07-03  19309.9  19243.4  19626.4  18794.4   65.27"
      ]
     },
     "execution_count": 11,
     "metadata": {},
     "output_type": "execute_result"
    }
   ],
   "source": [
    "#dropping the change % column bc it is a nuisance\n",
    "bitcoin_df = bitcoin_df.drop(bitcoin_df.columns[5],axis=1)\n",
    "bitcoin_df.head()\n"
   ]
  },
  {
   "cell_type": "code",
   "execution_count": 12,
   "id": "345b9b58-db7d-470a-a7fe-7d03098a6cd9",
   "metadata": {},
   "outputs": [],
   "source": [
    "# more cleaning of the vol column\n",
    "bitcoin_df['Vol.'] = bitcoin_df['Vol.'].str.replace('-','0')\n"
   ]
  },
  {
   "cell_type": "code",
   "execution_count": 13,
   "id": "df21ecab-a735-4ae0-a0a5-b07b4d91afbd",
   "metadata": {},
   "outputs": [
    {
     "data": {
      "text/plain": [
       "Price    float64\n",
       "Open     float64\n",
       "High     float64\n",
       "Low      float64\n",
       "Vol.     float64\n",
       "dtype: object"
      ]
     },
     "metadata": {},
     "output_type": "display_data"
    }
   ],
   "source": [
    "#converting all the values to float so we can perform calculations boi\n",
    "bitcoin_df = bitcoin_df.apply(pd.to_numeric)\n",
    "display(bitcoin_df.dtypes)\n"
   ]
  },
  {
   "cell_type": "code",
   "execution_count": 14,
   "id": "45a8f4ec-df8b-4925-a810-1a839f63490b",
   "metadata": {},
   "outputs": [
    {
     "data": {
      "text/html": [
       "<div>\n",
       "<style scoped>\n",
       "    .dataframe tbody tr th:only-of-type {\n",
       "        vertical-align: middle;\n",
       "    }\n",
       "\n",
       "    .dataframe tbody tr th {\n",
       "        vertical-align: top;\n",
       "    }\n",
       "\n",
       "    .dataframe thead th {\n",
       "        text-align: right;\n",
       "    }\n",
       "</style>\n",
       "<table border=\"1\" class=\"dataframe\">\n",
       "  <thead>\n",
       "    <tr style=\"text-align: right;\">\n",
       "      <th></th>\n",
       "      <th>Price</th>\n",
       "      <th>Open</th>\n",
       "      <th>High</th>\n",
       "      <th>Low</th>\n",
       "      <th>Vol.</th>\n",
       "      <th>avg daily price</th>\n",
       "    </tr>\n",
       "    <tr>\n",
       "      <th>Date</th>\n",
       "      <th></th>\n",
       "      <th></th>\n",
       "      <th></th>\n",
       "      <th></th>\n",
       "      <th></th>\n",
       "      <th></th>\n",
       "    </tr>\n",
       "  </thead>\n",
       "  <tbody>\n",
       "    <tr>\n",
       "      <th>2022-07-07</th>\n",
       "      <td>20306.8</td>\n",
       "      <td>20557.9</td>\n",
       "      <td>20584.2</td>\n",
       "      <td>20282.7</td>\n",
       "      <td>91.82</td>\n",
       "      <td>20432.900</td>\n",
       "    </tr>\n",
       "    <tr>\n",
       "      <th>2022-07-06</th>\n",
       "      <td>20561.1</td>\n",
       "      <td>20180.4</td>\n",
       "      <td>20654.9</td>\n",
       "      <td>19785.3</td>\n",
       "      <td>105.24</td>\n",
       "      <td>20295.425</td>\n",
       "    </tr>\n",
       "    <tr>\n",
       "      <th>2022-07-05</th>\n",
       "      <td>20200.6</td>\n",
       "      <td>20215.8</td>\n",
       "      <td>20706.9</td>\n",
       "      <td>19315.4</td>\n",
       "      <td>122.43</td>\n",
       "      <td>20109.675</td>\n",
       "    </tr>\n",
       "    <tr>\n",
       "      <th>2022-07-04</th>\n",
       "      <td>20215.8</td>\n",
       "      <td>19310.6</td>\n",
       "      <td>20303.8</td>\n",
       "      <td>19052.5</td>\n",
       "      <td>92.79</td>\n",
       "      <td>19720.675</td>\n",
       "    </tr>\n",
       "    <tr>\n",
       "      <th>2022-07-03</th>\n",
       "      <td>19309.9</td>\n",
       "      <td>19243.4</td>\n",
       "      <td>19626.4</td>\n",
       "      <td>18794.4</td>\n",
       "      <td>65.27</td>\n",
       "      <td>19243.525</td>\n",
       "    </tr>\n",
       "  </tbody>\n",
       "</table>\n",
       "</div>"
      ],
      "text/plain": [
       "              Price     Open     High      Low    Vol.  avg daily price\n",
       "Date                                                                   \n",
       "2022-07-07  20306.8  20557.9  20584.2  20282.7   91.82        20432.900\n",
       "2022-07-06  20561.1  20180.4  20654.9  19785.3  105.24        20295.425\n",
       "2022-07-05  20200.6  20215.8  20706.9  19315.4  122.43        20109.675\n",
       "2022-07-04  20215.8  19310.6  20303.8  19052.5   92.79        19720.675\n",
       "2022-07-03  19309.9  19243.4  19626.4  18794.4   65.27        19243.525"
      ]
     },
     "metadata": {},
     "output_type": "display_data"
    },
    {
     "data": {
      "text/html": [
       "<div>\n",
       "<style scoped>\n",
       "    .dataframe tbody tr th:only-of-type {\n",
       "        vertical-align: middle;\n",
       "    }\n",
       "\n",
       "    .dataframe tbody tr th {\n",
       "        vertical-align: top;\n",
       "    }\n",
       "\n",
       "    .dataframe thead th {\n",
       "        text-align: right;\n",
       "    }\n",
       "</style>\n",
       "<table border=\"1\" class=\"dataframe\">\n",
       "  <thead>\n",
       "    <tr style=\"text-align: right;\">\n",
       "      <th></th>\n",
       "      <th>Price</th>\n",
       "      <th>Open</th>\n",
       "      <th>High</th>\n",
       "      <th>Low</th>\n",
       "      <th>Vol.</th>\n",
       "      <th>avg daily price</th>\n",
       "    </tr>\n",
       "    <tr>\n",
       "      <th>Date</th>\n",
       "      <th></th>\n",
       "      <th></th>\n",
       "      <th></th>\n",
       "      <th></th>\n",
       "      <th></th>\n",
       "      <th></th>\n",
       "    </tr>\n",
       "  </thead>\n",
       "  <tbody>\n",
       "    <tr>\n",
       "      <th>2010-07-22</th>\n",
       "      <td>0.1</td>\n",
       "      <td>0.1</td>\n",
       "      <td>0.1</td>\n",
       "      <td>0.1</td>\n",
       "      <td>2.16</td>\n",
       "      <td>0.100</td>\n",
       "    </tr>\n",
       "    <tr>\n",
       "      <th>2010-07-21</th>\n",
       "      <td>0.1</td>\n",
       "      <td>0.1</td>\n",
       "      <td>0.1</td>\n",
       "      <td>0.1</td>\n",
       "      <td>0.58</td>\n",
       "      <td>0.100</td>\n",
       "    </tr>\n",
       "    <tr>\n",
       "      <th>2010-07-20</th>\n",
       "      <td>0.1</td>\n",
       "      <td>0.1</td>\n",
       "      <td>0.1</td>\n",
       "      <td>0.1</td>\n",
       "      <td>0.26</td>\n",
       "      <td>0.100</td>\n",
       "    </tr>\n",
       "    <tr>\n",
       "      <th>2010-07-19</th>\n",
       "      <td>0.1</td>\n",
       "      <td>0.1</td>\n",
       "      <td>0.1</td>\n",
       "      <td>0.1</td>\n",
       "      <td>0.57</td>\n",
       "      <td>0.100</td>\n",
       "    </tr>\n",
       "    <tr>\n",
       "      <th>2010-07-18</th>\n",
       "      <td>0.1</td>\n",
       "      <td>0.0</td>\n",
       "      <td>0.1</td>\n",
       "      <td>0.1</td>\n",
       "      <td>0.08</td>\n",
       "      <td>0.075</td>\n",
       "    </tr>\n",
       "  </tbody>\n",
       "</table>\n",
       "</div>"
      ],
      "text/plain": [
       "            Price  Open  High  Low  Vol.  avg daily price\n",
       "Date                                                     \n",
       "2010-07-22    0.1   0.1   0.1  0.1  2.16            0.100\n",
       "2010-07-21    0.1   0.1   0.1  0.1  0.58            0.100\n",
       "2010-07-20    0.1   0.1   0.1  0.1  0.26            0.100\n",
       "2010-07-19    0.1   0.1   0.1  0.1  0.57            0.100\n",
       "2010-07-18    0.1   0.0   0.1  0.1  0.08            0.075"
      ]
     },
     "metadata": {},
     "output_type": "display_data"
    }
   ],
   "source": [
    "#taking the average of price, open, high, low to create a new column that is the avg daily price\n",
    "bitcoin_df['avg daily price'] = bitcoin_df.iloc[:, [0,1,2,3]].mean(axis=1)\n",
    "display(bitcoin_df.head())\n",
    "display(bitcoin_df.tail())\n",
    "\n",
    "                        \n"
   ]
  },
  {
   "cell_type": "code",
   "execution_count": 15,
   "id": "53946f0a-6c21-4061-8899-7606ba24cf30",
   "metadata": {},
   "outputs": [
    {
     "data": {
      "text/html": [
       "<div>\n",
       "<style scoped>\n",
       "    .dataframe tbody tr th:only-of-type {\n",
       "        vertical-align: middle;\n",
       "    }\n",
       "\n",
       "    .dataframe tbody tr th {\n",
       "        vertical-align: top;\n",
       "    }\n",
       "\n",
       "    .dataframe thead th {\n",
       "        text-align: right;\n",
       "    }\n",
       "</style>\n",
       "<table border=\"1\" class=\"dataframe\">\n",
       "  <thead>\n",
       "    <tr style=\"text-align: right;\">\n",
       "      <th></th>\n",
       "      <th>Price</th>\n",
       "      <th>Open</th>\n",
       "      <th>High</th>\n",
       "      <th>Low</th>\n",
       "      <th>Vol.</th>\n",
       "      <th>Change %</th>\n",
       "    </tr>\n",
       "    <tr>\n",
       "      <th>Date</th>\n",
       "      <th></th>\n",
       "      <th></th>\n",
       "      <th></th>\n",
       "      <th></th>\n",
       "      <th></th>\n",
       "      <th></th>\n",
       "    </tr>\n",
       "  </thead>\n",
       "  <tbody>\n",
       "    <tr>\n",
       "      <th>2022-07-06</th>\n",
       "      <td>3845.08</td>\n",
       "      <td>3831.98</td>\n",
       "      <td>3870.91</td>\n",
       "      <td>3809.37</td>\n",
       "      <td>-</td>\n",
       "      <td>0.36%</td>\n",
       "    </tr>\n",
       "    <tr>\n",
       "      <th>2022-07-05</th>\n",
       "      <td>3831.39</td>\n",
       "      <td>3792.61</td>\n",
       "      <td>3832.19</td>\n",
       "      <td>3742.06</td>\n",
       "      <td>-</td>\n",
       "      <td>0.16%</td>\n",
       "    </tr>\n",
       "    <tr>\n",
       "      <th>2022-07-01</th>\n",
       "      <td>3825.33</td>\n",
       "      <td>3781.00</td>\n",
       "      <td>3829.82</td>\n",
       "      <td>3752.10</td>\n",
       "      <td>-</td>\n",
       "      <td>1.06%</td>\n",
       "    </tr>\n",
       "    <tr>\n",
       "      <th>2022-06-30</th>\n",
       "      <td>3785.38</td>\n",
       "      <td>3785.99</td>\n",
       "      <td>3818.99</td>\n",
       "      <td>3738.67</td>\n",
       "      <td>-</td>\n",
       "      <td>-0.88%</td>\n",
       "    </tr>\n",
       "    <tr>\n",
       "      <th>2022-06-29</th>\n",
       "      <td>3818.83</td>\n",
       "      <td>3825.09</td>\n",
       "      <td>3836.50</td>\n",
       "      <td>3799.02</td>\n",
       "      <td>-</td>\n",
       "      <td>-0.07%</td>\n",
       "    </tr>\n",
       "  </tbody>\n",
       "</table>\n",
       "</div>"
      ],
      "text/plain": [
       "              Price     Open     High      Low Vol. Change %\n",
       "Date                                                        \n",
       "2022-07-06  3845.08  3831.98  3870.91  3809.37    -    0.36%\n",
       "2022-07-05  3831.39  3792.61  3832.19  3742.06    -    0.16%\n",
       "2022-07-01  3825.33  3781.00  3829.82  3752.10    -    1.06%\n",
       "2022-06-30  3785.38  3785.99  3818.99  3738.67    -   -0.88%\n",
       "2022-06-29  3818.83  3825.09  3836.50  3799.02    -   -0.07%"
      ]
     },
     "execution_count": 15,
     "metadata": {},
     "output_type": "execute_result"
    }
   ],
   "source": [
    "# remove all commas in the S&P 500 dataset\n",
    "sp500_df.replace(',','', regex=True, inplace=True)\n",
    "sp500_df.head()\n"
   ]
  },
  {
   "cell_type": "code",
   "execution_count": 16,
   "id": "4f8108af-7d34-45ff-9331-4800c9b55497",
   "metadata": {},
   "outputs": [
    {
     "data": {
      "text/html": [
       "<div>\n",
       "<style scoped>\n",
       "    .dataframe tbody tr th:only-of-type {\n",
       "        vertical-align: middle;\n",
       "    }\n",
       "\n",
       "    .dataframe tbody tr th {\n",
       "        vertical-align: top;\n",
       "    }\n",
       "\n",
       "    .dataframe thead th {\n",
       "        text-align: right;\n",
       "    }\n",
       "</style>\n",
       "<table border=\"1\" class=\"dataframe\">\n",
       "  <thead>\n",
       "    <tr style=\"text-align: right;\">\n",
       "      <th></th>\n",
       "      <th>Price</th>\n",
       "      <th>Open</th>\n",
       "      <th>High</th>\n",
       "      <th>Low</th>\n",
       "    </tr>\n",
       "    <tr>\n",
       "      <th>Date</th>\n",
       "      <th></th>\n",
       "      <th></th>\n",
       "      <th></th>\n",
       "      <th></th>\n",
       "    </tr>\n",
       "  </thead>\n",
       "  <tbody>\n",
       "    <tr>\n",
       "      <th>2022-07-06</th>\n",
       "      <td>3845.08</td>\n",
       "      <td>3831.98</td>\n",
       "      <td>3870.91</td>\n",
       "      <td>3809.37</td>\n",
       "    </tr>\n",
       "    <tr>\n",
       "      <th>2022-07-05</th>\n",
       "      <td>3831.39</td>\n",
       "      <td>3792.61</td>\n",
       "      <td>3832.19</td>\n",
       "      <td>3742.06</td>\n",
       "    </tr>\n",
       "    <tr>\n",
       "      <th>2022-07-01</th>\n",
       "      <td>3825.33</td>\n",
       "      <td>3781.00</td>\n",
       "      <td>3829.82</td>\n",
       "      <td>3752.10</td>\n",
       "    </tr>\n",
       "    <tr>\n",
       "      <th>2022-06-30</th>\n",
       "      <td>3785.38</td>\n",
       "      <td>3785.99</td>\n",
       "      <td>3818.99</td>\n",
       "      <td>3738.67</td>\n",
       "    </tr>\n",
       "    <tr>\n",
       "      <th>2022-06-29</th>\n",
       "      <td>3818.83</td>\n",
       "      <td>3825.09</td>\n",
       "      <td>3836.50</td>\n",
       "      <td>3799.02</td>\n",
       "    </tr>\n",
       "  </tbody>\n",
       "</table>\n",
       "</div>"
      ],
      "text/plain": [
       "              Price     Open     High      Low\n",
       "Date                                          \n",
       "2022-07-06  3845.08  3831.98  3870.91  3809.37\n",
       "2022-07-05  3831.39  3792.61  3832.19  3742.06\n",
       "2022-07-01  3825.33  3781.00  3829.82  3752.10\n",
       "2022-06-30  3785.38  3785.99  3818.99  3738.67\n",
       "2022-06-29  3818.83  3825.09  3836.50  3799.02"
      ]
     },
     "execution_count": 16,
     "metadata": {},
     "output_type": "execute_result"
    }
   ],
   "source": [
    "#drop volum and change % columns bc they are both a nuisnance\n",
    "sp500_df.drop(columns=['Vol.','Change %'], inplace=True)\n",
    "sp500_df.head()"
   ]
  },
  {
   "cell_type": "code",
   "execution_count": 17,
   "id": "1eea0269-9c20-405d-a77d-b96d0f75b369",
   "metadata": {},
   "outputs": [
    {
     "data": {
      "text/plain": [
       "Price    float64\n",
       "Open     float64\n",
       "High     float64\n",
       "Low      float64\n",
       "dtype: object"
      ]
     },
     "metadata": {},
     "output_type": "display_data"
    }
   ],
   "source": [
    "#convert datatype to float64 so we can perform calculations\n",
    "sp500_df = sp500_df.apply(pd.to_numeric)\n",
    "display(sp500_df.dtypes)"
   ]
  },
  {
   "cell_type": "code",
   "execution_count": 18,
   "id": "9b5ce027-4593-4b82-afc4-666511457017",
   "metadata": {},
   "outputs": [
    {
     "data": {
      "text/html": [
       "<div>\n",
       "<style scoped>\n",
       "    .dataframe tbody tr th:only-of-type {\n",
       "        vertical-align: middle;\n",
       "    }\n",
       "\n",
       "    .dataframe tbody tr th {\n",
       "        vertical-align: top;\n",
       "    }\n",
       "\n",
       "    .dataframe thead th {\n",
       "        text-align: right;\n",
       "    }\n",
       "</style>\n",
       "<table border=\"1\" class=\"dataframe\">\n",
       "  <thead>\n",
       "    <tr style=\"text-align: right;\">\n",
       "      <th></th>\n",
       "      <th>Price</th>\n",
       "      <th>Open</th>\n",
       "      <th>High</th>\n",
       "      <th>Low</th>\n",
       "      <th>avg daily price</th>\n",
       "    </tr>\n",
       "    <tr>\n",
       "      <th>Date</th>\n",
       "      <th></th>\n",
       "      <th></th>\n",
       "      <th></th>\n",
       "      <th></th>\n",
       "      <th></th>\n",
       "    </tr>\n",
       "  </thead>\n",
       "  <tbody>\n",
       "    <tr>\n",
       "      <th>2022-07-06</th>\n",
       "      <td>3845.08</td>\n",
       "      <td>3831.98</td>\n",
       "      <td>3870.91</td>\n",
       "      <td>3809.37</td>\n",
       "      <td>3839.3350</td>\n",
       "    </tr>\n",
       "    <tr>\n",
       "      <th>2022-07-05</th>\n",
       "      <td>3831.39</td>\n",
       "      <td>3792.61</td>\n",
       "      <td>3832.19</td>\n",
       "      <td>3742.06</td>\n",
       "      <td>3799.5625</td>\n",
       "    </tr>\n",
       "    <tr>\n",
       "      <th>2022-07-01</th>\n",
       "      <td>3825.33</td>\n",
       "      <td>3781.00</td>\n",
       "      <td>3829.82</td>\n",
       "      <td>3752.10</td>\n",
       "      <td>3797.0625</td>\n",
       "    </tr>\n",
       "    <tr>\n",
       "      <th>2022-06-30</th>\n",
       "      <td>3785.38</td>\n",
       "      <td>3785.99</td>\n",
       "      <td>3818.99</td>\n",
       "      <td>3738.67</td>\n",
       "      <td>3782.2575</td>\n",
       "    </tr>\n",
       "    <tr>\n",
       "      <th>2022-06-29</th>\n",
       "      <td>3818.83</td>\n",
       "      <td>3825.09</td>\n",
       "      <td>3836.50</td>\n",
       "      <td>3799.02</td>\n",
       "      <td>3819.8600</td>\n",
       "    </tr>\n",
       "  </tbody>\n",
       "</table>\n",
       "</div>"
      ],
      "text/plain": [
       "              Price     Open     High      Low  avg daily price\n",
       "Date                                                           \n",
       "2022-07-06  3845.08  3831.98  3870.91  3809.37        3839.3350\n",
       "2022-07-05  3831.39  3792.61  3832.19  3742.06        3799.5625\n",
       "2022-07-01  3825.33  3781.00  3829.82  3752.10        3797.0625\n",
       "2022-06-30  3785.38  3785.99  3818.99  3738.67        3782.2575\n",
       "2022-06-29  3818.83  3825.09  3836.50  3799.02        3819.8600"
      ]
     },
     "metadata": {},
     "output_type": "display_data"
    },
    {
     "data": {
      "text/html": [
       "<div>\n",
       "<style scoped>\n",
       "    .dataframe tbody tr th:only-of-type {\n",
       "        vertical-align: middle;\n",
       "    }\n",
       "\n",
       "    .dataframe tbody tr th {\n",
       "        vertical-align: top;\n",
       "    }\n",
       "\n",
       "    .dataframe thead th {\n",
       "        text-align: right;\n",
       "    }\n",
       "</style>\n",
       "<table border=\"1\" class=\"dataframe\">\n",
       "  <thead>\n",
       "    <tr style=\"text-align: right;\">\n",
       "      <th></th>\n",
       "      <th>Price</th>\n",
       "      <th>Open</th>\n",
       "      <th>High</th>\n",
       "      <th>Low</th>\n",
       "      <th>avg daily price</th>\n",
       "    </tr>\n",
       "    <tr>\n",
       "      <th>Date</th>\n",
       "      <th></th>\n",
       "      <th></th>\n",
       "      <th></th>\n",
       "      <th></th>\n",
       "      <th></th>\n",
       "    </tr>\n",
       "  </thead>\n",
       "  <tbody>\n",
       "    <tr>\n",
       "      <th>2010-06-11</th>\n",
       "      <td>1091.60</td>\n",
       "      <td>1082.65</td>\n",
       "      <td>1092.25</td>\n",
       "      <td>1077.12</td>\n",
       "      <td>1085.9050</td>\n",
       "    </tr>\n",
       "    <tr>\n",
       "      <th>2010-06-10</th>\n",
       "      <td>1086.84</td>\n",
       "      <td>1058.77</td>\n",
       "      <td>1087.85</td>\n",
       "      <td>1058.77</td>\n",
       "      <td>1073.0575</td>\n",
       "    </tr>\n",
       "    <tr>\n",
       "      <th>2010-06-09</th>\n",
       "      <td>1055.69</td>\n",
       "      <td>1062.75</td>\n",
       "      <td>1077.74</td>\n",
       "      <td>1052.25</td>\n",
       "      <td>1062.1075</td>\n",
       "    </tr>\n",
       "    <tr>\n",
       "      <th>2010-06-08</th>\n",
       "      <td>1062.00</td>\n",
       "      <td>1050.81</td>\n",
       "      <td>1063.15</td>\n",
       "      <td>1042.17</td>\n",
       "      <td>1054.5325</td>\n",
       "    </tr>\n",
       "    <tr>\n",
       "      <th>2010-06-07</th>\n",
       "      <td>1050.47</td>\n",
       "      <td>1065.84</td>\n",
       "      <td>1071.36</td>\n",
       "      <td>1049.86</td>\n",
       "      <td>1059.3825</td>\n",
       "    </tr>\n",
       "  </tbody>\n",
       "</table>\n",
       "</div>"
      ],
      "text/plain": [
       "              Price     Open     High      Low  avg daily price\n",
       "Date                                                           \n",
       "2010-06-11  1091.60  1082.65  1092.25  1077.12        1085.9050\n",
       "2010-06-10  1086.84  1058.77  1087.85  1058.77        1073.0575\n",
       "2010-06-09  1055.69  1062.75  1077.74  1052.25        1062.1075\n",
       "2010-06-08  1062.00  1050.81  1063.15  1042.17        1054.5325\n",
       "2010-06-07  1050.47  1065.84  1071.36  1049.86        1059.3825"
      ]
     },
     "metadata": {},
     "output_type": "display_data"
    }
   ],
   "source": [
    "#create new column 'avg daily price' which averages the price, open, high , low columns\n",
    "sp500_df['avg daily price'] = sp500_df.iloc[:, [0,1,2,3]].mean(axis=1)\n",
    "display(sp500_df.head())\n",
    "display(sp500_df.tail())"
   ]
  },
  {
   "cell_type": "code",
   "execution_count": 19,
   "id": "8a74ae1b-4fce-40c9-b09b-5d836afdb9ec",
   "metadata": {},
   "outputs": [
    {
     "data": {
      "text/html": [
       "<div>\n",
       "<style scoped>\n",
       "    .dataframe tbody tr th:only-of-type {\n",
       "        vertical-align: middle;\n",
       "    }\n",
       "\n",
       "    .dataframe tbody tr th {\n",
       "        vertical-align: top;\n",
       "    }\n",
       "\n",
       "    .dataframe thead th {\n",
       "        text-align: right;\n",
       "    }\n",
       "</style>\n",
       "<table border=\"1\" class=\"dataframe\">\n",
       "  <thead>\n",
       "    <tr style=\"text-align: right;\">\n",
       "      <th></th>\n",
       "      <th>Price</th>\n",
       "      <th>Open</th>\n",
       "      <th>High</th>\n",
       "      <th>Low</th>\n",
       "      <th>Vol.</th>\n",
       "      <th>avg daily price</th>\n",
       "    </tr>\n",
       "    <tr>\n",
       "      <th>Date</th>\n",
       "      <th></th>\n",
       "      <th></th>\n",
       "      <th></th>\n",
       "      <th></th>\n",
       "      <th></th>\n",
       "      <th></th>\n",
       "    </tr>\n",
       "  </thead>\n",
       "  <tbody>\n",
       "    <tr>\n",
       "      <th>2010-07-18</th>\n",
       "      <td>0.1</td>\n",
       "      <td>0.0</td>\n",
       "      <td>0.1</td>\n",
       "      <td>0.1</td>\n",
       "      <td>0.08</td>\n",
       "      <td>0.075</td>\n",
       "    </tr>\n",
       "    <tr>\n",
       "      <th>2010-07-19</th>\n",
       "      <td>0.1</td>\n",
       "      <td>0.1</td>\n",
       "      <td>0.1</td>\n",
       "      <td>0.1</td>\n",
       "      <td>0.57</td>\n",
       "      <td>0.100</td>\n",
       "    </tr>\n",
       "    <tr>\n",
       "      <th>2010-07-20</th>\n",
       "      <td>0.1</td>\n",
       "      <td>0.1</td>\n",
       "      <td>0.1</td>\n",
       "      <td>0.1</td>\n",
       "      <td>0.26</td>\n",
       "      <td>0.100</td>\n",
       "    </tr>\n",
       "    <tr>\n",
       "      <th>2010-07-21</th>\n",
       "      <td>0.1</td>\n",
       "      <td>0.1</td>\n",
       "      <td>0.1</td>\n",
       "      <td>0.1</td>\n",
       "      <td>0.58</td>\n",
       "      <td>0.100</td>\n",
       "    </tr>\n",
       "    <tr>\n",
       "      <th>2010-07-22</th>\n",
       "      <td>0.1</td>\n",
       "      <td>0.1</td>\n",
       "      <td>0.1</td>\n",
       "      <td>0.1</td>\n",
       "      <td>2.16</td>\n",
       "      <td>0.100</td>\n",
       "    </tr>\n",
       "    <tr>\n",
       "      <th>...</th>\n",
       "      <td>...</td>\n",
       "      <td>...</td>\n",
       "      <td>...</td>\n",
       "      <td>...</td>\n",
       "      <td>...</td>\n",
       "      <td>...</td>\n",
       "    </tr>\n",
       "    <tr>\n",
       "      <th>2022-07-03</th>\n",
       "      <td>19309.9</td>\n",
       "      <td>19243.4</td>\n",
       "      <td>19626.4</td>\n",
       "      <td>18794.4</td>\n",
       "      <td>65.27</td>\n",
       "      <td>19243.525</td>\n",
       "    </tr>\n",
       "    <tr>\n",
       "      <th>2022-07-04</th>\n",
       "      <td>20215.8</td>\n",
       "      <td>19310.6</td>\n",
       "      <td>20303.8</td>\n",
       "      <td>19052.5</td>\n",
       "      <td>92.79</td>\n",
       "      <td>19720.675</td>\n",
       "    </tr>\n",
       "    <tr>\n",
       "      <th>2022-07-05</th>\n",
       "      <td>20200.6</td>\n",
       "      <td>20215.8</td>\n",
       "      <td>20706.9</td>\n",
       "      <td>19315.4</td>\n",
       "      <td>122.43</td>\n",
       "      <td>20109.675</td>\n",
       "    </tr>\n",
       "    <tr>\n",
       "      <th>2022-07-06</th>\n",
       "      <td>20561.1</td>\n",
       "      <td>20180.4</td>\n",
       "      <td>20654.9</td>\n",
       "      <td>19785.3</td>\n",
       "      <td>105.24</td>\n",
       "      <td>20295.425</td>\n",
       "    </tr>\n",
       "    <tr>\n",
       "      <th>2022-07-07</th>\n",
       "      <td>20306.8</td>\n",
       "      <td>20557.9</td>\n",
       "      <td>20584.2</td>\n",
       "      <td>20282.7</td>\n",
       "      <td>91.82</td>\n",
       "      <td>20432.900</td>\n",
       "    </tr>\n",
       "  </tbody>\n",
       "</table>\n",
       "<p>4373 rows × 6 columns</p>\n",
       "</div>"
      ],
      "text/plain": [
       "              Price     Open     High      Low    Vol.  avg daily price\n",
       "Date                                                                   \n",
       "2010-07-18      0.1      0.0      0.1      0.1    0.08            0.075\n",
       "2010-07-19      0.1      0.1      0.1      0.1    0.57            0.100\n",
       "2010-07-20      0.1      0.1      0.1      0.1    0.26            0.100\n",
       "2010-07-21      0.1      0.1      0.1      0.1    0.58            0.100\n",
       "2010-07-22      0.1      0.1      0.1      0.1    2.16            0.100\n",
       "...             ...      ...      ...      ...     ...              ...\n",
       "2022-07-03  19309.9  19243.4  19626.4  18794.4   65.27        19243.525\n",
       "2022-07-04  20215.8  19310.6  20303.8  19052.5   92.79        19720.675\n",
       "2022-07-05  20200.6  20215.8  20706.9  19315.4  122.43        20109.675\n",
       "2022-07-06  20561.1  20180.4  20654.9  19785.3  105.24        20295.425\n",
       "2022-07-07  20306.8  20557.9  20584.2  20282.7   91.82        20432.900\n",
       "\n",
       "[4373 rows x 6 columns]"
      ]
     },
     "execution_count": 19,
     "metadata": {},
     "output_type": "execute_result"
    }
   ],
   "source": [
    "#reverse the order of data so that it starts in 2010 and ends in 2022\n",
    "bitcoin_df_reverse = bitcoin_df\n",
    "bitcoin_df_reverse = bitcoin_df_reverse.iloc[::-1]\n",
    "bitcoin_df_reverse"
   ]
  },
  {
   "cell_type": "code",
   "execution_count": 20,
   "id": "10db7fe3-ac41-408c-a66f-efb030e755b3",
   "metadata": {},
   "outputs": [
    {
     "data": {
      "text/html": [
       "<div>\n",
       "<style scoped>\n",
       "    .dataframe tbody tr th:only-of-type {\n",
       "        vertical-align: middle;\n",
       "    }\n",
       "\n",
       "    .dataframe tbody tr th {\n",
       "        vertical-align: top;\n",
       "    }\n",
       "\n",
       "    .dataframe thead th {\n",
       "        text-align: right;\n",
       "    }\n",
       "</style>\n",
       "<table border=\"1\" class=\"dataframe\">\n",
       "  <thead>\n",
       "    <tr style=\"text-align: right;\">\n",
       "      <th></th>\n",
       "      <th>Price</th>\n",
       "      <th>Open</th>\n",
       "      <th>High</th>\n",
       "      <th>Low</th>\n",
       "      <th>Vol.</th>\n",
       "      <th>avg daily price</th>\n",
       "    </tr>\n",
       "    <tr>\n",
       "      <th>Date</th>\n",
       "      <th></th>\n",
       "      <th></th>\n",
       "      <th></th>\n",
       "      <th></th>\n",
       "      <th></th>\n",
       "      <th></th>\n",
       "    </tr>\n",
       "  </thead>\n",
       "  <tbody>\n",
       "    <tr>\n",
       "      <th>2012-01-12</th>\n",
       "      <td>6.8</td>\n",
       "      <td>6.9</td>\n",
       "      <td>7.0</td>\n",
       "      <td>6.3</td>\n",
       "      <td>140.12</td>\n",
       "      <td>6.750</td>\n",
       "    </tr>\n",
       "    <tr>\n",
       "      <th>2012-01-13</th>\n",
       "      <td>6.4</td>\n",
       "      <td>6.8</td>\n",
       "      <td>6.8</td>\n",
       "      <td>6.4</td>\n",
       "      <td>60.23</td>\n",
       "      <td>6.600</td>\n",
       "    </tr>\n",
       "    <tr>\n",
       "      <th>2012-01-14</th>\n",
       "      <td>6.8</td>\n",
       "      <td>6.4</td>\n",
       "      <td>6.9</td>\n",
       "      <td>6.2</td>\n",
       "      <td>141.90</td>\n",
       "      <td>6.575</td>\n",
       "    </tr>\n",
       "    <tr>\n",
       "      <th>2012-01-15</th>\n",
       "      <td>7.0</td>\n",
       "      <td>6.8</td>\n",
       "      <td>7.1</td>\n",
       "      <td>6.7</td>\n",
       "      <td>62.23</td>\n",
       "      <td>6.900</td>\n",
       "    </tr>\n",
       "    <tr>\n",
       "      <th>2012-01-16</th>\n",
       "      <td>6.7</td>\n",
       "      <td>7.0</td>\n",
       "      <td>7.2</td>\n",
       "      <td>6.5</td>\n",
       "      <td>122.67</td>\n",
       "      <td>6.850</td>\n",
       "    </tr>\n",
       "    <tr>\n",
       "      <th>...</th>\n",
       "      <td>...</td>\n",
       "      <td>...</td>\n",
       "      <td>...</td>\n",
       "      <td>...</td>\n",
       "      <td>...</td>\n",
       "      <td>...</td>\n",
       "    </tr>\n",
       "    <tr>\n",
       "      <th>2022-07-03</th>\n",
       "      <td>19309.9</td>\n",
       "      <td>19243.4</td>\n",
       "      <td>19626.4</td>\n",
       "      <td>18794.4</td>\n",
       "      <td>65.27</td>\n",
       "      <td>19243.525</td>\n",
       "    </tr>\n",
       "    <tr>\n",
       "      <th>2022-07-04</th>\n",
       "      <td>20215.8</td>\n",
       "      <td>19310.6</td>\n",
       "      <td>20303.8</td>\n",
       "      <td>19052.5</td>\n",
       "      <td>92.79</td>\n",
       "      <td>19720.675</td>\n",
       "    </tr>\n",
       "    <tr>\n",
       "      <th>2022-07-05</th>\n",
       "      <td>20200.6</td>\n",
       "      <td>20215.8</td>\n",
       "      <td>20706.9</td>\n",
       "      <td>19315.4</td>\n",
       "      <td>122.43</td>\n",
       "      <td>20109.675</td>\n",
       "    </tr>\n",
       "    <tr>\n",
       "      <th>2022-07-06</th>\n",
       "      <td>20561.1</td>\n",
       "      <td>20180.4</td>\n",
       "      <td>20654.9</td>\n",
       "      <td>19785.3</td>\n",
       "      <td>105.24</td>\n",
       "      <td>20295.425</td>\n",
       "    </tr>\n",
       "    <tr>\n",
       "      <th>2022-07-07</th>\n",
       "      <td>20306.8</td>\n",
       "      <td>20557.9</td>\n",
       "      <td>20584.2</td>\n",
       "      <td>20282.7</td>\n",
       "      <td>91.82</td>\n",
       "      <td>20432.900</td>\n",
       "    </tr>\n",
       "  </tbody>\n",
       "</table>\n",
       "<p>3830 rows × 6 columns</p>\n",
       "</div>"
      ],
      "text/plain": [
       "              Price     Open     High      Low    Vol.  avg daily price\n",
       "Date                                                                   \n",
       "2012-01-12      6.8      6.9      7.0      6.3  140.12            6.750\n",
       "2012-01-13      6.4      6.8      6.8      6.4   60.23            6.600\n",
       "2012-01-14      6.8      6.4      6.9      6.2  141.90            6.575\n",
       "2012-01-15      7.0      6.8      7.1      6.7   62.23            6.900\n",
       "2012-01-16      6.7      7.0      7.2      6.5  122.67            6.850\n",
       "...             ...      ...      ...      ...     ...              ...\n",
       "2022-07-03  19309.9  19243.4  19626.4  18794.4   65.27        19243.525\n",
       "2022-07-04  20215.8  19310.6  20303.8  19052.5   92.79        19720.675\n",
       "2022-07-05  20200.6  20215.8  20706.9  19315.4  122.43        20109.675\n",
       "2022-07-06  20561.1  20180.4  20654.9  19785.3  105.24        20295.425\n",
       "2022-07-07  20306.8  20557.9  20584.2  20282.7   91.82        20432.900\n",
       "\n",
       "[3830 rows x 6 columns]"
      ]
     },
     "execution_count": 20,
     "metadata": {},
     "output_type": "execute_result"
    }
   ],
   "source": [
    "#remove the first two years of data becuase the volume is too low for meaningful data during that period of time\n",
    "bitcoin = bitcoin_df_reverse.loc['2012-01-12':'2022-07-07',:]\n",
    "bitcoin"
   ]
  },
  {
   "cell_type": "code",
   "execution_count": 21,
   "id": "26b4bb06-151a-4794-b1fc-8759c77d8131",
   "metadata": {},
   "outputs": [
    {
     "data": {
      "text/html": [
       "<div>\n",
       "<style scoped>\n",
       "    .dataframe tbody tr th:only-of-type {\n",
       "        vertical-align: middle;\n",
       "    }\n",
       "\n",
       "    .dataframe tbody tr th {\n",
       "        vertical-align: top;\n",
       "    }\n",
       "\n",
       "    .dataframe thead th {\n",
       "        text-align: right;\n",
       "    }\n",
       "</style>\n",
       "<table border=\"1\" class=\"dataframe\">\n",
       "  <thead>\n",
       "    <tr style=\"text-align: right;\">\n",
       "      <th></th>\n",
       "      <th>Price</th>\n",
       "      <th>Open</th>\n",
       "      <th>High</th>\n",
       "      <th>Low</th>\n",
       "      <th>avg daily price</th>\n",
       "    </tr>\n",
       "    <tr>\n",
       "      <th>Date</th>\n",
       "      <th></th>\n",
       "      <th></th>\n",
       "      <th></th>\n",
       "      <th></th>\n",
       "      <th></th>\n",
       "    </tr>\n",
       "  </thead>\n",
       "  <tbody>\n",
       "    <tr>\n",
       "      <th>2010-06-07</th>\n",
       "      <td>1050.47</td>\n",
       "      <td>1065.84</td>\n",
       "      <td>1071.36</td>\n",
       "      <td>1049.86</td>\n",
       "      <td>1059.3825</td>\n",
       "    </tr>\n",
       "    <tr>\n",
       "      <th>2010-06-08</th>\n",
       "      <td>1062.00</td>\n",
       "      <td>1050.81</td>\n",
       "      <td>1063.15</td>\n",
       "      <td>1042.17</td>\n",
       "      <td>1054.5325</td>\n",
       "    </tr>\n",
       "    <tr>\n",
       "      <th>2010-06-09</th>\n",
       "      <td>1055.69</td>\n",
       "      <td>1062.75</td>\n",
       "      <td>1077.74</td>\n",
       "      <td>1052.25</td>\n",
       "      <td>1062.1075</td>\n",
       "    </tr>\n",
       "    <tr>\n",
       "      <th>2010-06-10</th>\n",
       "      <td>1086.84</td>\n",
       "      <td>1058.77</td>\n",
       "      <td>1087.85</td>\n",
       "      <td>1058.77</td>\n",
       "      <td>1073.0575</td>\n",
       "    </tr>\n",
       "    <tr>\n",
       "      <th>2010-06-11</th>\n",
       "      <td>1091.60</td>\n",
       "      <td>1082.65</td>\n",
       "      <td>1092.25</td>\n",
       "      <td>1077.12</td>\n",
       "      <td>1085.9050</td>\n",
       "    </tr>\n",
       "    <tr>\n",
       "      <th>...</th>\n",
       "      <td>...</td>\n",
       "      <td>...</td>\n",
       "      <td>...</td>\n",
       "      <td>...</td>\n",
       "      <td>...</td>\n",
       "    </tr>\n",
       "    <tr>\n",
       "      <th>2022-06-29</th>\n",
       "      <td>3818.83</td>\n",
       "      <td>3825.09</td>\n",
       "      <td>3836.50</td>\n",
       "      <td>3799.02</td>\n",
       "      <td>3819.8600</td>\n",
       "    </tr>\n",
       "    <tr>\n",
       "      <th>2022-06-30</th>\n",
       "      <td>3785.38</td>\n",
       "      <td>3785.99</td>\n",
       "      <td>3818.99</td>\n",
       "      <td>3738.67</td>\n",
       "      <td>3782.2575</td>\n",
       "    </tr>\n",
       "    <tr>\n",
       "      <th>2022-07-01</th>\n",
       "      <td>3825.33</td>\n",
       "      <td>3781.00</td>\n",
       "      <td>3829.82</td>\n",
       "      <td>3752.10</td>\n",
       "      <td>3797.0625</td>\n",
       "    </tr>\n",
       "    <tr>\n",
       "      <th>2022-07-05</th>\n",
       "      <td>3831.39</td>\n",
       "      <td>3792.61</td>\n",
       "      <td>3832.19</td>\n",
       "      <td>3742.06</td>\n",
       "      <td>3799.5625</td>\n",
       "    </tr>\n",
       "    <tr>\n",
       "      <th>2022-07-06</th>\n",
       "      <td>3845.08</td>\n",
       "      <td>3831.98</td>\n",
       "      <td>3870.91</td>\n",
       "      <td>3809.37</td>\n",
       "      <td>3839.3350</td>\n",
       "    </tr>\n",
       "  </tbody>\n",
       "</table>\n",
       "<p>3042 rows × 5 columns</p>\n",
       "</div>"
      ],
      "text/plain": [
       "              Price     Open     High      Low  avg daily price\n",
       "Date                                                           \n",
       "2010-06-07  1050.47  1065.84  1071.36  1049.86        1059.3825\n",
       "2010-06-08  1062.00  1050.81  1063.15  1042.17        1054.5325\n",
       "2010-06-09  1055.69  1062.75  1077.74  1052.25        1062.1075\n",
       "2010-06-10  1086.84  1058.77  1087.85  1058.77        1073.0575\n",
       "2010-06-11  1091.60  1082.65  1092.25  1077.12        1085.9050\n",
       "...             ...      ...      ...      ...              ...\n",
       "2022-06-29  3818.83  3825.09  3836.50  3799.02        3819.8600\n",
       "2022-06-30  3785.38  3785.99  3818.99  3738.67        3782.2575\n",
       "2022-07-01  3825.33  3781.00  3829.82  3752.10        3797.0625\n",
       "2022-07-05  3831.39  3792.61  3832.19  3742.06        3799.5625\n",
       "2022-07-06  3845.08  3831.98  3870.91  3809.37        3839.3350\n",
       "\n",
       "[3042 rows x 5 columns]"
      ]
     },
     "execution_count": 21,
     "metadata": {},
     "output_type": "execute_result"
    }
   ],
   "source": [
    "# reverse the order of data for sp500 dataset\n",
    "sp500_df_reverse = sp500_df\n",
    "sp500_df_reverse = sp500_df_reverse.iloc[::-1]\n",
    "sp500_df_reverse"
   ]
  },
  {
   "cell_type": "code",
   "execution_count": 22,
   "id": "c615ca8f-1bf2-4448-a70a-a1cbc5b18582",
   "metadata": {},
   "outputs": [
    {
     "data": {
      "text/html": [
       "<div>\n",
       "<style scoped>\n",
       "    .dataframe tbody tr th:only-of-type {\n",
       "        vertical-align: middle;\n",
       "    }\n",
       "\n",
       "    .dataframe tbody tr th {\n",
       "        vertical-align: top;\n",
       "    }\n",
       "\n",
       "    .dataframe thead th {\n",
       "        text-align: right;\n",
       "    }\n",
       "</style>\n",
       "<table border=\"1\" class=\"dataframe\">\n",
       "  <thead>\n",
       "    <tr style=\"text-align: right;\">\n",
       "      <th></th>\n",
       "      <th>Price</th>\n",
       "      <th>Open</th>\n",
       "      <th>High</th>\n",
       "      <th>Low</th>\n",
       "      <th>avg daily price</th>\n",
       "    </tr>\n",
       "    <tr>\n",
       "      <th>Date</th>\n",
       "      <th></th>\n",
       "      <th></th>\n",
       "      <th></th>\n",
       "      <th></th>\n",
       "      <th></th>\n",
       "    </tr>\n",
       "  </thead>\n",
       "  <tbody>\n",
       "    <tr>\n",
       "      <th>2012-01-12</th>\n",
       "      <td>1295.50</td>\n",
       "      <td>1292.48</td>\n",
       "      <td>1296.82</td>\n",
       "      <td>1285.77</td>\n",
       "      <td>1292.6425</td>\n",
       "    </tr>\n",
       "    <tr>\n",
       "      <th>2012-01-13</th>\n",
       "      <td>1289.09</td>\n",
       "      <td>1294.82</td>\n",
       "      <td>1294.82</td>\n",
       "      <td>1277.58</td>\n",
       "      <td>1289.0775</td>\n",
       "    </tr>\n",
       "    <tr>\n",
       "      <th>2012-01-17</th>\n",
       "      <td>1293.67</td>\n",
       "      <td>1290.22</td>\n",
       "      <td>1303.00</td>\n",
       "      <td>1290.22</td>\n",
       "      <td>1294.2775</td>\n",
       "    </tr>\n",
       "    <tr>\n",
       "      <th>2012-01-18</th>\n",
       "      <td>1308.04</td>\n",
       "      <td>1293.65</td>\n",
       "      <td>1308.11</td>\n",
       "      <td>1290.99</td>\n",
       "      <td>1300.1975</td>\n",
       "    </tr>\n",
       "    <tr>\n",
       "      <th>2012-01-19</th>\n",
       "      <td>1314.50</td>\n",
       "      <td>1308.07</td>\n",
       "      <td>1315.49</td>\n",
       "      <td>1308.07</td>\n",
       "      <td>1311.5325</td>\n",
       "    </tr>\n",
       "    <tr>\n",
       "      <th>...</th>\n",
       "      <td>...</td>\n",
       "      <td>...</td>\n",
       "      <td>...</td>\n",
       "      <td>...</td>\n",
       "      <td>...</td>\n",
       "    </tr>\n",
       "    <tr>\n",
       "      <th>2022-06-29</th>\n",
       "      <td>3818.83</td>\n",
       "      <td>3825.09</td>\n",
       "      <td>3836.50</td>\n",
       "      <td>3799.02</td>\n",
       "      <td>3819.8600</td>\n",
       "    </tr>\n",
       "    <tr>\n",
       "      <th>2022-06-30</th>\n",
       "      <td>3785.38</td>\n",
       "      <td>3785.99</td>\n",
       "      <td>3818.99</td>\n",
       "      <td>3738.67</td>\n",
       "      <td>3782.2575</td>\n",
       "    </tr>\n",
       "    <tr>\n",
       "      <th>2022-07-01</th>\n",
       "      <td>3825.33</td>\n",
       "      <td>3781.00</td>\n",
       "      <td>3829.82</td>\n",
       "      <td>3752.10</td>\n",
       "      <td>3797.0625</td>\n",
       "    </tr>\n",
       "    <tr>\n",
       "      <th>2022-07-05</th>\n",
       "      <td>3831.39</td>\n",
       "      <td>3792.61</td>\n",
       "      <td>3832.19</td>\n",
       "      <td>3742.06</td>\n",
       "      <td>3799.5625</td>\n",
       "    </tr>\n",
       "    <tr>\n",
       "      <th>2022-07-06</th>\n",
       "      <td>3845.08</td>\n",
       "      <td>3831.98</td>\n",
       "      <td>3870.91</td>\n",
       "      <td>3809.37</td>\n",
       "      <td>3839.3350</td>\n",
       "    </tr>\n",
       "  </tbody>\n",
       "</table>\n",
       "<p>2637 rows × 5 columns</p>\n",
       "</div>"
      ],
      "text/plain": [
       "              Price     Open     High      Low  avg daily price\n",
       "Date                                                           \n",
       "2012-01-12  1295.50  1292.48  1296.82  1285.77        1292.6425\n",
       "2012-01-13  1289.09  1294.82  1294.82  1277.58        1289.0775\n",
       "2012-01-17  1293.67  1290.22  1303.00  1290.22        1294.2775\n",
       "2012-01-18  1308.04  1293.65  1308.11  1290.99        1300.1975\n",
       "2012-01-19  1314.50  1308.07  1315.49  1308.07        1311.5325\n",
       "...             ...      ...      ...      ...              ...\n",
       "2022-06-29  3818.83  3825.09  3836.50  3799.02        3819.8600\n",
       "2022-06-30  3785.38  3785.99  3818.99  3738.67        3782.2575\n",
       "2022-07-01  3825.33  3781.00  3829.82  3752.10        3797.0625\n",
       "2022-07-05  3831.39  3792.61  3832.19  3742.06        3799.5625\n",
       "2022-07-06  3845.08  3831.98  3870.91  3809.37        3839.3350\n",
       "\n",
       "[2637 rows x 5 columns]"
      ]
     },
     "execution_count": 22,
     "metadata": {},
     "output_type": "execute_result"
    }
   ],
   "source": [
    "#remove the first two years of data so that it matches the bitcoin dataset\n",
    "sp500 = sp500_df_reverse.loc['2012-01-12':'2022-07-07',:]\n",
    "sp500"
   ]
  },
  {
   "cell_type": "markdown",
   "id": "e142d8a4-1e32-4c16-8e36-013f229259df",
   "metadata": {
    "tags": []
   },
   "source": [
    "## Calculate the Sharpe Ratios"
   ]
  },
  {
   "cell_type": "code",
   "execution_count": 23,
   "id": "7b9e4c53-029a-4f62-bd7e-0acf0e4340ee",
   "metadata": {},
   "outputs": [
    {
     "data": {
      "text/plain": [
       "Date\n",
       "2012-01-13   -0.022222\n",
       "2012-01-14   -0.003788\n",
       "2012-01-15    0.049430\n",
       "2012-01-16   -0.007246\n",
       "2012-01-17   -0.131387\n",
       "Name: avg daily price, dtype: float64"
      ]
     },
     "execution_count": 23,
     "metadata": {},
     "output_type": "execute_result"
    }
   ],
   "source": [
    "#calculate the daily percent change of bitcoin\n",
    "bitcoin_daily_change =  bitcoin['avg daily price'].pct_change().dropna()\n",
    "bitcoin_daily_change.head()"
   ]
  },
  {
   "cell_type": "code",
   "execution_count": 24,
   "id": "5176bf7c-2b43-42d4-8b21-ad2e6ae7d38a",
   "metadata": {},
   "outputs": [
    {
     "data": {
      "text/plain": [
       "1.1196726221876656"
      ]
     },
     "execution_count": 24,
     "metadata": {},
     "output_type": "execute_result"
    }
   ],
   "source": [
    "#calculate the average annual return of bitcoin by multiplying the average daily percent change by the number of trading days per year (for cryptocurency is 365)\n",
    "average_annual_return_bitcoin = bitcoin_daily_change.mean() *365\n",
    "average_annual_return_bitcoin"
   ]
  },
  {
   "cell_type": "code",
   "execution_count": 25,
   "id": "49c425fd-c7ea-40f6-9d0a-61a2cb2336ba",
   "metadata": {},
   "outputs": [
    {
     "data": {
      "text/plain": [
       "Date\n",
       "2012-01-13   -0.002758\n",
       "2012-01-17    0.004034\n",
       "2012-01-18    0.004574\n",
       "2012-01-19    0.008718\n",
       "2012-01-20    0.001580\n",
       "Name: avg daily price, dtype: float64"
      ]
     },
     "execution_count": 25,
     "metadata": {},
     "output_type": "execute_result"
    }
   ],
   "source": [
    "#calculate the daily percent change of the s&p500\n",
    "sp500_daily_change =  sp500['avg daily price'].pct_change().dropna()\n",
    "sp500_daily_change.head()"
   ]
  },
  {
   "cell_type": "code",
   "execution_count": 26,
   "id": "54ec21d6-a1d4-4003-a178-ee65c380b017",
   "metadata": {},
   "outputs": [
    {
     "data": {
      "text/plain": [
       "0.11183887459735849"
      ]
     },
     "execution_count": 26,
     "metadata": {},
     "output_type": "execute_result"
    }
   ],
   "source": [
    "# calculate the average annual return of the s&p 500 over this time period by multiplying the average daily percent change by number of trading days (for stocks is 252)\n",
    "average_annual_return_sp500 = sp500_daily_change.mean() *252\n",
    "average_annual_return_sp500"
   ]
  },
  {
   "cell_type": "code",
   "execution_count": 27,
   "id": "7298df7a-c7f8-4276-9266-8c0493d25118",
   "metadata": {},
   "outputs": [
    {
     "data": {
      "text/plain": [
       "0.9928437027806027"
      ]
     },
     "execution_count": 27,
     "metadata": {},
     "output_type": "execute_result"
    }
   ],
   "source": [
    "#calculate the annualized standard deviation of bitcoin by multiplying the standard deviation of the daily percent change of bitcoin by the square roof of the number of trading days( 365)\n",
    "annualized_std_bitcoin = bitcoin_daily_change.std()*np.sqrt(365)\n",
    "annualized_std_bitcoin"
   ]
  },
  {
   "cell_type": "code",
   "execution_count": 28,
   "id": "a3d256f4-64e3-4e1a-8960-cd390e0c862a",
   "metadata": {},
   "outputs": [
    {
     "data": {
      "text/plain": [
       "1.127743086904676"
      ]
     },
     "execution_count": 28,
     "metadata": {},
     "output_type": "execute_result"
    }
   ],
   "source": [
    "#Calculate sharpe ratio = average annual return/ annualized standard deviation\n",
    "sharpe_ratio_bitcoin = average_annual_return_bitcoin/annualized_std_bitcoin\n",
    "sharpe_ratio_bitcoin"
   ]
  },
  {
   "cell_type": "code",
   "execution_count": 29,
   "id": "3c4684bd-5437-4c00-8f12-77894339f113",
   "metadata": {},
   "outputs": [
    {
     "data": {
      "text/plain": [
       "0.12421380148486161"
      ]
     },
     "execution_count": 29,
     "metadata": {},
     "output_type": "execute_result"
    }
   ],
   "source": [
    "#calculate the annualized standard deviation of s&p500 by multiplying the standard deviation of the daily percent change of the s&p 500 by the square root of the number of trading days(252)\n",
    "annualized_std_sp500 = sp500_daily_change.std()*252**(1/2)\n",
    "annualized_std_sp500"
   ]
  },
  {
   "cell_type": "code",
   "execution_count": 30,
   "id": "7cf1f579-0830-4a5e-b62a-42656ce18e5e",
   "metadata": {},
   "outputs": [
    {
     "data": {
      "text/plain": [
       "0.9003739782570676"
      ]
     },
     "execution_count": 30,
     "metadata": {},
     "output_type": "execute_result"
    }
   ],
   "source": [
    "#calculate the sharpe ratio sp500\n",
    "sharpe_ratio_sp500 = average_annual_return_sp500/annualized_std_sp500\n",
    "sharpe_ratio_sp500"
   ]
  },
  {
   "cell_type": "markdown",
   "id": "8304398e-4492-47c5-93ad-ee14c5bd99cf",
   "metadata": {},
   "source": [
    "# Notes on the sharpe ratios\n",
    "The sharpe ratio of bitcoin is 26% higher than the s&p 500. This means that bitcoin has had a better risk adjusted return than the s&p500 over the past decade. "
   ]
  },
  {
   "cell_type": "code",
   "execution_count": 31,
   "id": "3ac29e70-967f-4e62-93ee-59c979dd0908",
   "metadata": {},
   "outputs": [
    {
     "data": {
      "text/plain": [
       "Date\n",
       "2012-01-12        6.750\n",
       "2012-01-13        6.600\n",
       "2012-01-14        6.575\n",
       "2012-01-15        6.900\n",
       "2012-01-16        6.850\n",
       "                ...    \n",
       "2022-07-03    19243.525\n",
       "2022-07-04    19720.675\n",
       "2022-07-05    20109.675\n",
       "2022-07-06    20295.425\n",
       "2022-07-07    20432.900\n",
       "Name: avg daily price, Length: 3830, dtype: float64"
      ]
     },
     "metadata": {},
     "output_type": "display_data"
    },
    {
     "data": {
      "text/plain": [
       "Date\n",
       "2012-01-12    1292.6425\n",
       "2012-01-13    1289.0775\n",
       "2012-01-17    1294.2775\n",
       "2012-01-18    1300.1975\n",
       "2012-01-19    1311.5325\n",
       "                ...    \n",
       "2022-06-29    3819.8600\n",
       "2022-06-30    3782.2575\n",
       "2022-07-01    3797.0625\n",
       "2022-07-05    3799.5625\n",
       "2022-07-06    3839.3350\n",
       "Name: avg daily price, Length: 2637, dtype: float64"
      ]
     },
     "metadata": {},
     "output_type": "display_data"
    }
   ],
   "source": [
    "#create two seperate series with just avg daily price of the s&p 500 and bitcoin\n",
    "sp500_one = sp500['avg daily price']\n",
    "bitcoin_one = bitcoin['avg daily price']\n",
    "display(bitcoin_one)\n",
    "display(sp500_one)"
   ]
  },
  {
   "cell_type": "code",
   "execution_count": 32,
   "id": "425f95cb-d2f1-4e21-9102-c887b9893c18",
   "metadata": {},
   "outputs": [
    {
     "data": {
      "text/html": [
       "<div>\n",
       "<style scoped>\n",
       "    .dataframe tbody tr th:only-of-type {\n",
       "        vertical-align: middle;\n",
       "    }\n",
       "\n",
       "    .dataframe tbody tr th {\n",
       "        vertical-align: top;\n",
       "    }\n",
       "\n",
       "    .dataframe thead th {\n",
       "        text-align: right;\n",
       "    }\n",
       "</style>\n",
       "<table border=\"1\" class=\"dataframe\">\n",
       "  <thead>\n",
       "    <tr style=\"text-align: right;\">\n",
       "      <th></th>\n",
       "      <th>avg daily price</th>\n",
       "      <th>avg daily price</th>\n",
       "    </tr>\n",
       "    <tr>\n",
       "      <th>Date</th>\n",
       "      <th></th>\n",
       "      <th></th>\n",
       "    </tr>\n",
       "  </thead>\n",
       "  <tbody>\n",
       "    <tr>\n",
       "      <th>2012-01-12</th>\n",
       "      <td>6.750</td>\n",
       "      <td>1292.6425</td>\n",
       "    </tr>\n",
       "    <tr>\n",
       "      <th>2012-01-13</th>\n",
       "      <td>6.600</td>\n",
       "      <td>1289.0775</td>\n",
       "    </tr>\n",
       "    <tr>\n",
       "      <th>2012-01-17</th>\n",
       "      <td>5.950</td>\n",
       "      <td>1294.2775</td>\n",
       "    </tr>\n",
       "    <tr>\n",
       "      <th>2012-01-18</th>\n",
       "      <td>5.875</td>\n",
       "      <td>1300.1975</td>\n",
       "    </tr>\n",
       "    <tr>\n",
       "      <th>2012-01-19</th>\n",
       "      <td>6.150</td>\n",
       "      <td>1311.5325</td>\n",
       "    </tr>\n",
       "    <tr>\n",
       "      <th>...</th>\n",
       "      <td>...</td>\n",
       "      <td>...</td>\n",
       "    </tr>\n",
       "    <tr>\n",
       "      <th>2022-06-29</th>\n",
       "      <td>20171.450</td>\n",
       "      <td>3819.8600</td>\n",
       "    </tr>\n",
       "    <tr>\n",
       "      <th>2022-06-30</th>\n",
       "      <td>19718.925</td>\n",
       "      <td>3782.2575</td>\n",
       "    </tr>\n",
       "    <tr>\n",
       "      <th>2022-07-01</th>\n",
       "      <td>19738.800</td>\n",
       "      <td>3797.0625</td>\n",
       "    </tr>\n",
       "    <tr>\n",
       "      <th>2022-07-05</th>\n",
       "      <td>20109.675</td>\n",
       "      <td>3799.5625</td>\n",
       "    </tr>\n",
       "    <tr>\n",
       "      <th>2022-07-06</th>\n",
       "      <td>20295.425</td>\n",
       "      <td>3839.3350</td>\n",
       "    </tr>\n",
       "  </tbody>\n",
       "</table>\n",
       "<p>2637 rows × 2 columns</p>\n",
       "</div>"
      ],
      "text/plain": [
       "            avg daily price  avg daily price\n",
       "Date                                        \n",
       "2012-01-12            6.750        1292.6425\n",
       "2012-01-13            6.600        1289.0775\n",
       "2012-01-17            5.950        1294.2775\n",
       "2012-01-18            5.875        1300.1975\n",
       "2012-01-19            6.150        1311.5325\n",
       "...                     ...              ...\n",
       "2022-06-29        20171.450        3819.8600\n",
       "2022-06-30        19718.925        3782.2575\n",
       "2022-07-01        19738.800        3797.0625\n",
       "2022-07-05        20109.675        3799.5625\n",
       "2022-07-06        20295.425        3839.3350\n",
       "\n",
       "[2637 rows x 2 columns]"
      ]
     },
     "execution_count": 32,
     "metadata": {},
     "output_type": "execute_result"
    }
   ],
   "source": [
    "#combine the two series into one dataset - name the colums appropriately\n",
    "bitcoin_sp500 = pd.concat([bitcoin_one, sp500_one], axis=\"columns\", join=\"inner\")\n",
    "bitcoin_sp500"
   ]
  },
  {
   "cell_type": "code",
   "execution_count": 33,
   "id": "ab15cbcd-4a67-4332-a909-4b96008c19c3",
   "metadata": {},
   "outputs": [
    {
     "data": {
      "text/html": [
       "<div>\n",
       "<style scoped>\n",
       "    .dataframe tbody tr th:only-of-type {\n",
       "        vertical-align: middle;\n",
       "    }\n",
       "\n",
       "    .dataframe tbody tr th {\n",
       "        vertical-align: top;\n",
       "    }\n",
       "\n",
       "    .dataframe thead th {\n",
       "        text-align: right;\n",
       "    }\n",
       "</style>\n",
       "<table border=\"1\" class=\"dataframe\">\n",
       "  <thead>\n",
       "    <tr style=\"text-align: right;\">\n",
       "      <th></th>\n",
       "      <th>Bitcoin</th>\n",
       "      <th>S&amp;P 500</th>\n",
       "    </tr>\n",
       "    <tr>\n",
       "      <th>Date</th>\n",
       "      <th></th>\n",
       "      <th></th>\n",
       "    </tr>\n",
       "  </thead>\n",
       "  <tbody>\n",
       "    <tr>\n",
       "      <th>2012-01-12</th>\n",
       "      <td>6.750</td>\n",
       "      <td>1292.6425</td>\n",
       "    </tr>\n",
       "    <tr>\n",
       "      <th>2012-01-13</th>\n",
       "      <td>6.600</td>\n",
       "      <td>1289.0775</td>\n",
       "    </tr>\n",
       "    <tr>\n",
       "      <th>2012-01-17</th>\n",
       "      <td>5.950</td>\n",
       "      <td>1294.2775</td>\n",
       "    </tr>\n",
       "    <tr>\n",
       "      <th>2012-01-18</th>\n",
       "      <td>5.875</td>\n",
       "      <td>1300.1975</td>\n",
       "    </tr>\n",
       "    <tr>\n",
       "      <th>2012-01-19</th>\n",
       "      <td>6.150</td>\n",
       "      <td>1311.5325</td>\n",
       "    </tr>\n",
       "  </tbody>\n",
       "</table>\n",
       "</div>"
      ],
      "text/plain": [
       "            Bitcoin    S&P 500\n",
       "Date                          \n",
       "2012-01-12    6.750  1292.6425\n",
       "2012-01-13    6.600  1289.0775\n",
       "2012-01-17    5.950  1294.2775\n",
       "2012-01-18    5.875  1300.1975\n",
       "2012-01-19    6.150  1311.5325"
      ]
     },
     "execution_count": 33,
     "metadata": {},
     "output_type": "execute_result"
    }
   ],
   "source": [
    "# name the columns appropriately\n",
    "bitcoin_sp500.columns = ['Bitcoin','S&P 500']\n",
    "bitcoin_sp500.head()"
   ]
  },
  {
   "cell_type": "code",
   "execution_count": 34,
   "id": "c08f8b77-69f8-43b7-9116-960f7deccc2e",
   "metadata": {},
   "outputs": [
    {
     "data": {
      "text/plain": [
       "<AxesSubplot:title={'center':'Bitcoin vs S&P500'}, xlabel='Date'>"
      ]
     },
     "execution_count": 34,
     "metadata": {},
     "output_type": "execute_result"
    },
    {
     "data": {
      "image/png": "[encoded data removed]",
      "text/plain": [
       "<Figure size 432x288 with 1 Axes>"
      ]
     },
     "metadata": {
      "needs_background": "light"
     },
     "output_type": "display_data"
    }
   ],
   "source": [
    "# this is the price plot between bitcoin and s&p 500\n",
    "bitcoin_sp500.plot(title=\"Bitcoin vs S&P500\")"
   ]
  },
  {
   "cell_type": "code",
   "execution_count": 35,
   "id": "a7e6cf8f-650d-4ec0-bf97-c92a2c88a5e0",
   "metadata": {},
   "outputs": [
    {
     "data": {
      "text/plain": [
       "<AxesSubplot:xlabel='Date'>"
      ]
     },
     "execution_count": 35,
     "metadata": {},
     "output_type": "execute_result"
    },
    {
     "data": {
      "image/png": "[encoded data removed]",
      "text/plain": [
       "<Figure size 432x288 with 1 Axes>"
      ]
     },
     "metadata": {
      "needs_background": "light"
     },
     "output_type": "display_data"
    }
   ],
   "source": [
    "# plot the pct_change of bitcoin and s&p on the same graph\n",
    "bitcoin_sp500.pct_change().plot()"
   ]
  },
  {
   "cell_type": "code",
   "execution_count": 36,
   "id": "389a818c-0e7a-456a-bf4d-9b4f4dcc3145",
   "metadata": {},
   "outputs": [
    {
     "data": {
      "text/html": [
       "<div>\n",
       "<style scoped>\n",
       "    .dataframe tbody tr th:only-of-type {\n",
       "        vertical-align: middle;\n",
       "    }\n",
       "\n",
       "    .dataframe tbody tr th {\n",
       "        vertical-align: top;\n",
       "    }\n",
       "\n",
       "    .dataframe thead th {\n",
       "        text-align: right;\n",
       "    }\n",
       "</style>\n",
       "<table border=\"1\" class=\"dataframe\">\n",
       "  <thead>\n",
       "    <tr style=\"text-align: right;\">\n",
       "      <th></th>\n",
       "      <th>Bitcoin</th>\n",
       "      <th>S&amp;P 500</th>\n",
       "    </tr>\n",
       "    <tr>\n",
       "      <th>Date</th>\n",
       "      <th></th>\n",
       "      <th></th>\n",
       "    </tr>\n",
       "  </thead>\n",
       "  <tbody>\n",
       "    <tr>\n",
       "      <th>2022-06-29</th>\n",
       "      <td>2987.362963</td>\n",
       "      <td>1.955078</td>\n",
       "    </tr>\n",
       "    <tr>\n",
       "      <th>2022-06-30</th>\n",
       "      <td>2920.322222</td>\n",
       "      <td>1.925989</td>\n",
       "    </tr>\n",
       "    <tr>\n",
       "      <th>2022-07-01</th>\n",
       "      <td>2923.266667</td>\n",
       "      <td>1.937442</td>\n",
       "    </tr>\n",
       "    <tr>\n",
       "      <th>2022-07-05</th>\n",
       "      <td>2978.211111</td>\n",
       "      <td>1.939376</td>\n",
       "    </tr>\n",
       "    <tr>\n",
       "      <th>2022-07-06</th>\n",
       "      <td>3005.729630</td>\n",
       "      <td>1.970144</td>\n",
       "    </tr>\n",
       "  </tbody>\n",
       "</table>\n",
       "</div>"
      ],
      "text/plain": [
       "                Bitcoin   S&P 500\n",
       "Date                             \n",
       "2022-06-29  2987.362963  1.955078\n",
       "2022-06-30  2920.322222  1.925989\n",
       "2022-07-01  2923.266667  1.937442\n",
       "2022-07-05  2978.211111  1.939376\n",
       "2022-07-06  3005.729630  1.970144"
      ]
     },
     "execution_count": 36,
     "metadata": {},
     "output_type": "execute_result"
    }
   ],
   "source": [
    "#calculate cumlative returns of bitcoin and s&p500\n",
    "cumulative_returns = (1 + bitcoin_sp500.pct_change()).cumprod() - 1\n",
    "cumulative_returns.tail()"
   ]
  },
  {
   "cell_type": "code",
   "execution_count": 37,
   "id": "eacc1df5-0636-43a6-98b1-93712cf1d8a8",
   "metadata": {},
   "outputs": [
    {
     "data": {
      "text/plain": [
       "<AxesSubplot:xlabel='Bitcoin', ylabel='S&P 500'>"
      ]
     },
     "execution_count": 37,
     "metadata": {},
     "output_type": "execute_result"
    },
    {
     "data": {
      "image/png": "[encoded data removed]",
      "text/plain": [
       "<Figure size 432x288 with 1 Axes>"
      ]
     },
     "metadata": {
      "needs_background": "light"
     },
     "output_type": "display_data"
    }
   ],
   "source": [
    "#create a scatter plot of the two to visulaize the correlation\n",
    "bitcoin_sp500.plot(kind='scatter', x='Bitcoin', y='S&P 500')"
   ]
  },
  {
   "cell_type": "code",
   "execution_count": 38,
   "id": "b0afa108-6d57-407f-ad25-6b3dec6b8cec",
   "metadata": {},
   "outputs": [
    {
     "data": {
      "text/html": [
       "<div>\n",
       "<style scoped>\n",
       "    .dataframe tbody tr th:only-of-type {\n",
       "        vertical-align: middle;\n",
       "    }\n",
       "\n",
       "    .dataframe tbody tr th {\n",
       "        vertical-align: top;\n",
       "    }\n",
       "\n",
       "    .dataframe thead th {\n",
       "        text-align: right;\n",
       "    }\n",
       "</style>\n",
       "<table border=\"1\" class=\"dataframe\">\n",
       "  <thead>\n",
       "    <tr style=\"text-align: right;\">\n",
       "      <th></th>\n",
       "      <th>Bitcoin</th>\n",
       "      <th>S&amp;P 500</th>\n",
       "    </tr>\n",
       "  </thead>\n",
       "  <tbody>\n",
       "    <tr>\n",
       "      <th>Bitcoin</th>\n",
       "      <td>1.000000</td>\n",
       "      <td>0.883682</td>\n",
       "    </tr>\n",
       "    <tr>\n",
       "      <th>S&amp;P 500</th>\n",
       "      <td>0.883682</td>\n",
       "      <td>1.000000</td>\n",
       "    </tr>\n",
       "  </tbody>\n",
       "</table>\n",
       "</div>"
      ],
      "text/plain": [
       "          Bitcoin   S&P 500\n",
       "Bitcoin  1.000000  0.883682\n",
       "S&P 500  0.883682  1.000000"
      ]
     },
     "execution_count": 38,
     "metadata": {},
     "output_type": "execute_result"
    }
   ],
   "source": [
    "# calculate the correlation of bitcoin and s&p500\n",
    "bitcoin_sp500.corr()"
   ]
  },
  {
   "cell_type": "code",
   "execution_count": 39,
   "id": "13eda858-7b4d-4647-a34c-39329fc16563",
   "metadata": {},
   "outputs": [
    {
     "data": {
      "text/plain": [
       "Bitcoin    0.065156\n",
       "S&P 500    0.007825\n",
       "dtype: float64"
      ]
     },
     "execution_count": 39,
     "metadata": {},
     "output_type": "execute_result"
    }
   ],
   "source": [
    "# create variable that is the daily_returns of both and then calculate the standard deviation of the daily returns\n",
    "daily_returns_both = bitcoin_sp500.pct_change().dropna()\n",
    "daily_returns_both.std()"
   ]
  },
  {
   "cell_type": "code",
   "execution_count": 40,
   "id": "2a3cf5aa-1292-4b34-b814-10fb288ec74d",
   "metadata": {},
   "outputs": [
    {
     "data": {
      "text/plain": [
       "4.0485977870235127e-05"
      ]
     },
     "execution_count": 40,
     "metadata": {},
     "output_type": "execute_result"
    }
   ],
   "source": [
    "#calculate covariance\n",
    "covariance = daily_returns_both['Bitcoin'].cov(daily_returns_both['S&P 500'])\n",
    "covariance"
   ]
  },
  {
   "cell_type": "code",
   "execution_count": 41,
   "id": "229bb9d6-2b56-4c51-82cd-cc1d72f0d303",
   "metadata": {},
   "outputs": [],
   "source": [
    "#calculate rolling variance\n",
    "rolling_variance = daily_returns_both['S&P 500'].rolling(window=90).var()"
   ]
  },
  {
   "cell_type": "code",
   "execution_count": 42,
   "id": "efe888bf-7da4-47a1-9aa7-9b17804a9b4c",
   "metadata": {},
   "outputs": [
    {
     "data": {
      "text/plain": [
       "6.12264622195262e-05"
      ]
     },
     "execution_count": 42,
     "metadata": {},
     "output_type": "execute_result"
    }
   ],
   "source": [
    "#calculate variance \n",
    "variance_sp500 = daily_returns_both['S&P 500'].var()\n",
    "variance_sp500"
   ]
  },
  {
   "cell_type": "code",
   "execution_count": 43,
   "id": "1dadad84-beb4-4541-ab23-553f50a1989f",
   "metadata": {},
   "outputs": [
    {
     "data": {
      "text/plain": [
       "0.6612496688943662"
      ]
     },
     "execution_count": 43,
     "metadata": {},
     "output_type": "execute_result"
    }
   ],
   "source": [
    "#calculate beta\n",
    "\n",
    "bitcoin_beta = covariance/variance_sp500\n",
    "bitcoin_beta"
   ]
  },
  {
   "cell_type": "code",
   "execution_count": 44,
   "id": "2383fee2-fcd8-4f9d-8846-5de99834faa0",
   "metadata": {},
   "outputs": [],
   "source": [
    "#calculate rolling 90 day covariance\n",
    "rolling_covariance_bitcoin = daily_returns_both['Bitcoin'].rolling(window=90).cov(daily_returns_both['S&P 500'])"
   ]
  },
  {
   "cell_type": "code",
   "execution_count": 49,
   "id": "2de000da-45e8-4b4d-a62a-2b0c5faf0d09",
   "metadata": {},
   "outputs": [],
   "source": [
    "#calculate rolling 90 day beta\n",
    "rolling_beta = rolling_covariance_bitcoin/rolling_variance\n",
    "\n",
    "#rolling_beta.plot(figsize= (18,11), title = \"Rolling 90 Day Beta of Bitcoin\")"
   ]
  },
  {
   "cell_type": "code",
   "execution_count": 51,
   "id": "727a2d82-6c86-496a-911b-95bd8415f0cd",
   "metadata": {},
   "outputs": [
    {
     "name": "stderr",
     "output_type": "stream",
     "text": [
      "C:\\Users\\deerr\\anaconda3\\envs\\dev\\envs\\dev\\lib\\site-packages\\ipykernel_launcher.py:2: SettingWithCopyWarning: \n",
      "A value is trying to be set on a copy of a slice from a DataFrame.\n",
      "Try using .loc[row_indexer,col_indexer] = value instead\n",
      "\n",
      "See the caveats in the documentation: https://pandas.pydata.org/pandas-docs/stable/user_guide/indexing.html#returning-a-view-versus-a-copy\n",
      "  \n"
     ]
    }
   ],
   "source": [
    "#create new column in bitcoin df for beta so we can plot this later\n",
    "bitcoin['beta'] = .661249\n",
    "#bitcoin"
   ]
  },
  {
   "cell_type": "code",
   "execution_count": 53,
   "id": "abf95b6a-80b2-4b81-aff1-18d82c7f4a7e",
   "metadata": {},
   "outputs": [
    {
     "data": {
      "text/plain": [
       "<matplotlib.legend.Legend at 0x20840831208>"
      ]
     },
     "execution_count": 53,
     "metadata": {},
     "output_type": "execute_result"
    },
    {
     "data": {
      "image/png": "[encoded data removed]",
      "text/plain": [
       "<Figure size 1296x792 with 1 Axes>"
      ]
     },
     "metadata": {
      "needs_background": "light"
     },
     "output_type": "display_data"
    }
   ],
   "source": [
    "#plot rolling 90 day beta of bitcoin vs average beta of bitcoin\n",
    "\n",
    "ax = rolling_beta.plot(figsize= (18,11), title = \"Rolling 90 Day Beta of Bitcoin\")\n",
    "\n",
    "bitcoin['beta'].plot(ax=ax)\n",
    "ax.legend(['Rolling 90 Day Bitcoin Beta','Average Bitcoin Beta'])"
   ]
  },
  {
   "cell_type": "code",
   "execution_count": null,
   "id": "094df68e-f447-4c47-ab21-5c3aabcf65ec",
   "metadata": {},
   "outputs": [],
   "source": [
    "#plot rolling standard deviation\n",
    "#daily_returns_both.rolling(window=30).std().plot(figsize=(20,12))"
   ]
  },
  {
   "cell_type": "code",
   "execution_count": null,
   "id": "1c95010e-c1d7-43b1-a678-48fd2ebb4a62",
   "metadata": {},
   "outputs": [],
   "source": [
    "#plot correlation\n",
    "#daily_returns_both.rolling(window=60).corr().plot(figsize=(20,12))"
   ]
  },
  {
   "cell_type": "code",
   "execution_count": 56,
   "id": "bbc449bb-e87b-424f-9b98-1c9e5d82fad1",
   "metadata": {},
   "outputs": [],
   "source": [
    "#seperate the daily change of each into seperate dataframes so we can manipulate them seperatly\n",
    "sp500_daily_change = sp500_one.pct_change().dropna()\n",
    "bitcoin_daily_change = bitcoin_one.pct_change().dropna()\n",
    "#display(bitcoin_daily_change)\n",
    "#display(sp500_daily_change)\n"
   ]
  },
  {
   "cell_type": "code",
   "execution_count": 60,
   "id": "52ad7cf9-cb35-44c4-84b0-ba9745c4c8e4",
   "metadata": {},
   "outputs": [],
   "source": [
    "#plot bitcoin price vs the yearly moving average\n",
    "#ax = bitcoin_one.plot(figsize=(20,12), title = 'Yearly Moving Average vs. Price')\n",
    "#bitcoin_one.rolling(window=365).mean().plot(ax=ax)\n",
    "#ax.legend(['Bitcoin Price','365 Day Moving Average'])"
   ]
  },
  {
   "cell_type": "code",
   "execution_count": 62,
   "id": "76121d2a-668b-4233-b243-202f92e6ccad",
   "metadata": {},
   "outputs": [],
   "source": [
    "# calculate the rolling 30 day covariance of bitcoin\n",
    "#rolling_covariance = daily_returns_both['Bitcoin'].rolling(window=30).cov(daily_returns_both['S&P 500'])\n",
    "#rolling_covariance =rolling_covariance.dropna()\n",
    "#rolling_covariance.plot()\n"
   ]
  },
  {
   "cell_type": "code",
   "execution_count": null,
   "id": "b24688cd-b118-428c-9f61-1d61c21ea5d3",
   "metadata": {},
   "outputs": [],
   "source": [
    "#calculate the rolling 30 day variance\n",
    "#rolling_variance = daily_returns_both['S&P 500'].rolling(window=30).var()\n",
    "#rolling_variance = rolling_variance.dropna()"
   ]
  },
  {
   "cell_type": "code",
   "execution_count": null,
   "id": "6f15ef04-371e-4e9f-94c0-5afbfc08cb21",
   "metadata": {},
   "outputs": [],
   "source": [
    "#calculate the 30 day rolling beta of bitcoin\n",
    "#rolling30_beta_bitcoin = rolling_covariance/rolling_variance\n",
    "#rolling30_beta_bitcoin.plot(figsize=(20,12))"
   ]
  },
  {
   "cell_type": "code",
   "execution_count": 68,
   "id": "75c97c45-50db-4c79-b965-7ba1b50f20c8",
   "metadata": {},
   "outputs": [
    {
     "name": "stderr",
     "output_type": "stream",
     "text": [
      "C:\\Users\\deerr\\anaconda3\\envs\\dev\\envs\\dev\\lib\\site-packages\\ipykernel_launcher.py:8: SettingWithCopyWarning: \n",
      "A value is trying to be set on a copy of a slice from a DataFrame.\n",
      "Try using .loc[row_indexer,col_indexer] = value instead\n",
      "\n",
      "See the caveats in the documentation: https://pandas.pydata.org/pandas-docs/stable/user_guide/indexing.html#returning-a-view-versus-a-copy\n",
      "  \n"
     ]
    }
   ],
   "source": [
    "# calculate rolling sharpe ratio of bitcoin\n",
    "average_annual_return_bitcoin_rolling = bitcoin_daily_change.rolling(window=365).mean()*365\n",
    "\n",
    "average_annual_return_bitcoin_rolling = average_annual_return_bitcoin_rolling.dropna()\n",
    "\n",
    "average_annual_std_bitcoin_rolling = bitcoin_daily_change.rolling(window=365).std() * np.sqrt(365)\n",
    "average_annual_std_bitcoin_rolling = average_annual_std_bitcoin_rolling.dropna()\n",
    "\n",
    "#create new column in bitcoin named sharpe so that we can plot this in the next cell\n",
    "bitcoin['sharpe'] = 1.13\n",
    "#average_annual_std_bitcoin_rolling"
   ]
  },
  {
   "cell_type": "code",
   "execution_count": 72,
   "id": "b76057b4-0325-4cbe-b67b-d964c3f5409a",
   "metadata": {},
   "outputs": [
    {
     "data": {
      "text/plain": [
       "<matplotlib.legend.Legend at 0x20844cad948>"
      ]
     },
     "execution_count": 72,
     "metadata": {},
     "output_type": "execute_result"
    },
    {
     "data": {
      "image/png": "[encoded data removed]",
      "text/plain": [
       "<Figure size 1440x864 with 1 Axes>"
      ]
     },
     "metadata": {
      "needs_background": "light"
     },
     "output_type": "display_data"
    }
   ],
   "source": [
    "#plot the rolling sharpe ratio vs average sharpe ratio\n",
    "rolling_sharpe_ratio = average_annual_return_bitcoin_rolling/average_annual_std_bitcoin_rolling\n",
    "ax = rolling_sharpe_ratio.plot(figsize=(20,12), title = \"Rolling Sharpe Ratio (30 day) vs Average Sharpe Ratio\")\n",
    "bitcoin['sharpe'].plot(ax=ax)\n",
    "ax.legend(['Rolling Sharpe Ratio (30 Day)','Average Sharpe Ratio'])\n"
   ]
  },
  {
   "cell_type": "code",
   "execution_count": 73,
   "id": "7843396e-8f51-4aed-911b-7f46e478f3b0",
   "metadata": {},
   "outputs": [
    {
     "name": "stderr",
     "output_type": "stream",
     "text": [
      "C:\\Users\\deerr\\anaconda3\\envs\\dev\\envs\\dev\\lib\\site-packages\\ipykernel_launcher.py:2: SettingWithCopyWarning: \n",
      "A value is trying to be set on a copy of a slice from a DataFrame.\n",
      "Try using .loc[row_indexer,col_indexer] = value instead\n",
      "\n",
      "See the caveats in the documentation: https://pandas.pydata.org/pandas-docs/stable/user_guide/indexing.html#returning-a-view-versus-a-copy\n",
      "  \n"
     ]
    }
   ],
   "source": [
    "#add sharpe column to s&P 500 so we can plot it in the later\n",
    "sp500['sharpe'] = .90\n",
    "#sp500"
   ]
  },
  {
   "cell_type": "code",
   "execution_count": 74,
   "id": "bedb74f1-4c2d-4c1e-b2fa-7e30a85da55f",
   "metadata": {},
   "outputs": [],
   "source": [
    "# calculate rolling sharpe ratio of s&p\n",
    "average_annual_return_sp500_rolling = sp500_daily_change.rolling(window=365).mean()*251\n",
    "\n",
    "average_annual_return_sp500_rolling = average_annual_return_sp500_rolling.dropna()\n",
    "\n",
    "average_annual_std_sp500_rolling = sp500_daily_change.rolling(window=365).std() * np.sqrt(365)\n",
    "average_annual_std_sp500_rolling = average_annual_std_sp500_rolling.dropna()\n",
    "\n",
    "average_annual_std_sp500_rolling\n",
    "\n",
    "rolling_sharpe_ratio_sp500 = average_annual_return_sp500_rolling/average_annual_std_sp500_rolling"
   ]
  },
  {
   "cell_type": "code",
   "execution_count": 76,
   "id": "9ee96cee-ac2e-43d9-a7b0-3e6a61b1d507",
   "metadata": {},
   "outputs": [
    {
     "data": {
      "text/plain": [
       "<matplotlib.legend.Legend at 0x20844f6c4c8>"
      ]
     },
     "execution_count": 76,
     "metadata": {},
     "output_type": "execute_result"
    },
    {
     "data": {
      "image/png": "[encoded data removed]",
      "text/plain": [
       "<Figure size 1440x864 with 1 Axes>"
      ]
     },
     "metadata": {
      "needs_background": "light"
     },
     "output_type": "display_data"
    }
   ],
   "source": [
    "#plot the rolling sharpe ratio of bitcoin vs s&p 500 - include the average sharpe ratio is there as well\n",
    "ax = rolling_sharpe_ratio.plot(figsize=(20,12), title= \"Sharpe Ratio of Bitcoin vs. S&P 500\")\n",
    "bitcoin['sharpe'].plot(ax=ax)\n",
    "rolling_sharpe_ratio_sp500.plot(ax=ax)\n",
    "sp500['sharpe'].plot(ax=ax)\n",
    "ax.legend(['Bitcoin Rolling Sharpe Ratio (30 Day)','Bitcoin Average Sharpe Ratio','S&P 500 Rolling Sharpe Ratio (30 day)', 'S&P 500 Average Sharpe Ratio'])"
   ]
  },
  {
   "cell_type": "code",
   "execution_count": null,
   "id": "88bc1fed-5b30-4721-b985-302cb5f08499",
   "metadata": {},
   "outputs": [],
   "source": []
  }
 ],
 "metadata": {
  "kernelspec": {
   "display_name": "Python (dev)",
   "language": "python",
   "name": "dev"
  },
  "language_info": {
   "codemirror_mode": {
    "name": "ipython",
    "version": 3
   },
   "file_extension": ".py",
   "mimetype": "text/x-python",
   "name": "python",
   "nbconvert_exporter": "python",
   "pygments_lexer": "ipython3",
   "version": "3.7.11"
  }
 },
 "nbformat": 4,
 "nbformat_minor": 5
}
